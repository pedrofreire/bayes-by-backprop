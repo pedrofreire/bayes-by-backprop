{
 "cells": [
  {
   "cell_type": "code",
   "execution_count": 1,
   "metadata": {},
   "outputs": [],
   "source": [
    "import torch\n",
    "from bayes_by_backprop import BayesLinear,get_kl_loss\n",
    "import matplotlib.pyplot as plt\n",
    "import numpy as np\n",
    "import  torch.nn as nn\n"
   ]
  },
  {
   "cell_type": "code",
   "execution_count": 29,
   "metadata": {},
   "outputs": [],
   "source": [
    "\n",
    "\n",
    "class Reg_DS:\n",
    "    def __init__(self):\n",
    "        sig=0.02\n",
    "        t=torch.linspace(0,0.5,1000)\n",
    "        eps=torch.randn(1000)*sig\n",
    "        self.y=t+0.3*(torch.sin(2*np.pi*(t+eps))+torch.sin(4*np.pi*(t+eps)))+eps\n",
    "        self.t=t\n",
    "    def __len__(self):\n",
    "        return len(self.y)\n",
    "    def __getitem__(self,i):\n",
    "        return self.t[i],self.y[i]"
   ]
  },
  {
   "cell_type": "code",
   "execution_count": 45,
   "metadata": {},
   "outputs": [
    {
     "name": "stdout",
     "output_type": "stream",
     "text": [
      "----------\n",
      "epoch: 0\n",
      "loss: -0.014942747139930726\n",
      "----------\n",
      "epoch: 1\n",
      "loss: -0.037799507570266726\n",
      "----------\n",
      "epoch: 2\n",
      "loss: -0.07100209097862242\n",
      "----------\n",
      "epoch: 3\n",
      "loss: -0.11812990603446961\n",
      "----------\n",
      "epoch: 4\n",
      "loss: -0.1825416724205017\n",
      "----------\n",
      "epoch: 5\n",
      "loss: -0.26576660003662106\n",
      "----------\n",
      "epoch: 6\n",
      "loss: -0.36940760784149174\n",
      "----------\n",
      "epoch: 7\n",
      "loss: -0.49429080390930175\n",
      "----------\n",
      "epoch: 8\n",
      "loss: -0.6424587558746339\n",
      "----------\n",
      "epoch: 9\n",
      "loss: -0.8137019683837889\n",
      "----------\n",
      "epoch: 10\n",
      "loss: -1.0077157623291018\n",
      "----------\n",
      "epoch: 11\n",
      "loss: -1.2247032814025878\n",
      "----------\n",
      "epoch: 12\n",
      "loss: -1.4547992744445801\n",
      "----------\n",
      "epoch: 13\n",
      "loss: -1.6829158271789555\n",
      "----------\n",
      "epoch: 14\n",
      "loss: -1.9891501647949221\n",
      "----------\n",
      "epoch: 15\n",
      "loss: -2.296122019958496\n",
      "----------\n",
      "epoch: 16\n",
      "loss: -2.6189124298095705\n",
      "----------\n",
      "epoch: 17\n",
      "loss: -2.967922198486328\n",
      "----------\n",
      "epoch: 18\n",
      "loss: -3.3423647186279295\n",
      "----------\n",
      "epoch: 19\n",
      "loss: -3.7411300872802737\n",
      "----------\n",
      "epoch: 20\n",
      "loss: -4.163327862548829\n",
      "----------\n",
      "epoch: 21\n",
      "loss: -4.613397119140626\n",
      "----------\n",
      "epoch: 22\n",
      "loss: -5.0883085052490244\n",
      "----------\n",
      "epoch: 23\n",
      "loss: -5.588174069213868\n",
      "----------\n",
      "epoch: 24\n",
      "loss: -6.114932922363281\n",
      "----------\n",
      "epoch: 25\n",
      "loss: -6.666423937988281\n",
      "----------\n",
      "epoch: 26\n",
      "loss: -7.242686846923828\n",
      "----------\n",
      "epoch: 27\n",
      "loss: -7.847002960205077\n",
      "----------\n",
      "epoch: 28\n",
      "loss: -8.47253667602539\n",
      "----------\n",
      "epoch: 29\n",
      "loss: -9.126757305908203\n"
     ]
    }
   ],
   "source": [
    "BETA=1e-5\n",
    "def train(\n",
    "    epochs=30,\n",
    "    num_samples=5,\n",
    "    batch_size=128,\n",
    "    lr=1e-2,\n",
    "):\n",
    "    train_loader=torch.utils.data.DataLoader(Reg_DS(),batch_size)\n",
    "    num_batches=len(train_loader)\n",
    "    inp_sz = 1\n",
    "    hid_sz = 20\n",
    "    out_sz = 1\n",
    "    model = nn.Sequential(\n",
    "        BayesLinear(inp_sz, hid_sz),\n",
    "        nn.ReLU(),\n",
    "        BayesLinear(hid_sz, hid_sz),\n",
    "        nn.ReLU(),\n",
    "        BayesLinear(hid_sz, out_sz),\n",
    "    )\n",
    "\n",
    "    opt = torch.optim.Adam(model.parameters(), lr=lr)\n",
    "    log=[]\n",
    "    for epoch in range(epochs):\n",
    "        total_loss = 0.0\n",
    "        num_correct = 0\n",
    "        for i, (X, y) in enumerate(train_loader):\n",
    "            loss = 0.0\n",
    "            X,y=X[:,None],y[:,None]\n",
    "            for _ in range(num_samples):\n",
    "                reg_loss=((model(X)-y)**2).mean()\n",
    "                kl_loss = get_kl_loss(model) / num_batches\n",
    "                log.append((reg_loss.item(),kl_loss.item()))\n",
    "                loss += BETA*kl_loss + reg_loss\n",
    "\n",
    "                total_loss += loss.item() / num_samples\n",
    "\n",
    "            loss.backward()\n",
    "            opt.step()\n",
    "            opt.zero_grad()\n",
    "\n",
    "\n",
    "        print('----------')\n",
    "        print(f'epoch: {epoch}')\n",
    "        print(f'loss: {total_loss/1000}')\n",
    "    return model,log\n",
    "\n",
    "model,log=train()"
   ]
  },
  {
   "cell_type": "code",
   "execution_count": 44,
   "metadata": {},
   "outputs": [
    {
     "data": {
      "text/plain": [
       "-7037482670.558441"
      ]
     },
     "execution_count": 44,
     "metadata": {},
     "output_type": "execute_result"
    }
   ],
   "source": [
    "#plt.plot([t[1] for t in log])\n",
    "item=log[-1]\n",
    "item[1]/item[0]"
   ]
  },
  {
   "cell_type": "code",
   "execution_count": 34,
   "metadata": {},
   "outputs": [
    {
     "data": {
      "text/plain": [
       "[<matplotlib.lines.Line2D at 0x1418416de20>]"
      ]
     },
     "execution_count": 34,
     "metadata": {},
     "output_type": "execute_result"
    },
    {
     "data": {
      "image/png": "[encoded data removed]",
      "text/plain": [
       "<Figure size 432x288 with 1 Axes>"
      ]
     },
     "metadata": {
      "needs_background": "light"
     },
     "output_type": "display_data"
    }
   ],
   "source": [
    "ypred=model(torch.linspace(0,0.5,1000)[:,None])\n",
    "plt.plot(ypred.detach())"
   ]
  },
  {
   "cell_type": "code",
   "execution_count": 3,
   "metadata": {},
   "outputs": [],
   "source": [
    "import  pandas as pd\n",
    "\n"
   ]
  },
  {
   "cell_type": "code",
   "execution_count": 51,
   "metadata": {},
   "outputs": [],
   "source": [
    "y=df[0].values\n",
    "y=np.array([1 if t=='p' else 0 for t in y])\n",
    "\n",
    "x=pd.get_dummies(df.iloc[:,1:]).values\n",
    "\n"
   ]
  },
  {
   "cell_type": "code",
   "execution_count": 122,
   "metadata": {},
   "outputs": [
    {
     "name": "stderr",
     "output_type": "stream",
     "text": [
      "100%|████████████████████████████████████████████████████████████████████████████████| 127/127 [00:01<00:00, 96.94it/s]\n",
      "  7%|█████▊                                                                            | 9/127 [00:00<00:01, 85.87it/s]"
     ]
    },
    {
     "name": "stdout",
     "output_type": "stream",
     "text": [
      "----------\n",
      "epoch: 0\n",
      "loss: 2278.621943950653\n"
     ]
    },
    {
     "name": "stderr",
     "output_type": "stream",
     "text": [
      "100%|████████████████████████████████████████████████████████████████████████████████| 127/127 [00:01<00:00, 96.14it/s]"
     ]
    },
    {
     "name": "stdout",
     "output_type": "stream",
     "text": [
      "----------\n",
      "epoch: 1\n",
      "loss: 371.8695107102394\n"
     ]
    },
    {
     "name": "stderr",
     "output_type": "stream",
     "text": [
      "\n"
     ]
    }
   ],
   "source": [
    "class Mushroom_Dataset:\n",
    "    def __init__(self):\n",
    "        df=pd.read_csv('data/agaricus-lepiota.data',header=None)\n",
    "        y=df[0].values\n",
    "        y=np.array([-5 if t=='p' else 5 for t in y])\n",
    "        x=pd.get_dummies(df.iloc[:,1:]).values\n",
    "        self.x=torch.tensor(x,dtype=torch.float)\n",
    "        self.y=torch.tensor(y,dtype=torch.long)\n",
    "        \n",
    "    def __len__(self):\n",
    "        return len(self.x)\n",
    "    def __getitem__(self,i):\n",
    "        return self.x[i],self.y[i]\n",
    "    \n",
    "    \n",
    "\n",
    "    \n",
    "    \n",
    "dl=torch.utils.data.DataLoader(Mushroom_Dataset(),batch_size=64,shuffle=True)\n",
    "D=117\n",
    "H=300\n",
    "net=nn.Sequential(nn.Linear(117,H),\n",
    "                               nn.ReLU(),\n",
    "                               nn.Linear(H,H),\n",
    "                                nn.ReLU(),\n",
    "                               nn.Linear(H,1))#.to(device='cuda')\n",
    "opt = torch.optim.Adam(net.parameters(), lr=1e-4)\n",
    "log=[]\n",
    "for epoch in range(2):\n",
    "    total_loss = 0.0\n",
    "    num_correct = 0\n",
    "    for i, (X, y) in enumerate(tqdm(dl)):\n",
    "        #X,y=X.cuda(),y.cuda()\n",
    "        logits = net(X).reshape(-1)\n",
    "        #y_pred = torch.argmax(logits, dim=1)\n",
    "        loss = ((logits-y)**2).mean()\n",
    "        log.append(loss.item())\n",
    "        total_loss += loss.item() \n",
    "        #num_correct += torch.sum(y_pred == y).item() \n",
    "\n",
    "        loss.backward()\n",
    "        opt.step()\n",
    "        opt.zero_grad()\n",
    "    \n",
    "    #acc = num_correct / len(dl.dataset)\n",
    "\n",
    "    print('----------')\n",
    "    print(f'epoch: {epoch}')\n",
    "    print(f'loss: {total_loss}')\n",
    "    #print(f'acc : {acc}')\n",
    "        "
   ]
  },
  {
   "cell_type": "code",
   "execution_count": 17,
   "metadata": {},
   "outputs": [
    {
     "name": "stderr",
     "output_type": "stream",
     "text": [
      "100%|██████████████████████████████████████████████████████████████████████████████| 1000/1000 [04:02<00:00,  4.12it/s]\n"
     ]
    }
   ],
   "source": [
    "from random import choice\n",
    "\n",
    "class Mushroom_Bandit:\n",
    "    def __init__(self):\n",
    "        df=pd.read_csv('data/agaricus-lepiota.data',header=None)\n",
    "        y=df[0].values\n",
    "        y=np.array([1 if t=='p' else 0 for t in y])\n",
    "        x=pd.get_dummies(df.iloc[:,1:]).values\n",
    "        self.x=torch.tensor(x)\n",
    "        self.y=torch.tensor(y)\n",
    "        self.cum_reg=[0]\n",
    "    \n",
    "    def get_ctx(self):\n",
    "        #self.i=torch.randint(0,len(self.x),(1))\n",
    "        self.i=np.random.randint(0,len(self.x))\n",
    "        return self.x[self.i]\n",
    "    \n",
    "    def get_reward(self,a):\n",
    "        y=self.y[self.i]\n",
    "        mer=0 if y==1 else 5\n",
    "        \n",
    "        if a==0: ##don't eat\n",
    "            self.cum_reg.append(mer+self.cum_reg[-1])\n",
    "            return 0\n",
    "        \n",
    "        if y==0: ##eat and not poisonous\n",
    "            self.cum_reg.append(self.cum_reg[-1])\n",
    "            return 0\n",
    "        \n",
    "        ##eat and poisonous\n",
    "        self.cum_reg.append(self.cum_reg[-1]+15)\n",
    "        \n",
    "        p=torch.rand(1)\n",
    "        if p>=0.5:\n",
    "            return 5\n",
    "        \n",
    "        return -35\n",
    "    \n",
    "\n",
    "\n",
    "    \n",
    "BATCH_SIZE=64  \n",
    "class Agent:\n",
    "    def __init__(self,bandit):\n",
    "        self.buffer=[]\n",
    "        self.bandit=bandit\n",
    "    \n",
    "    \n",
    "    def update(self,c,a,r):\n",
    "        pass\n",
    "        \n",
    "    \n",
    "    def get_action(self,ctx):\n",
    "        pass\n",
    "    \n",
    "    def step(self):\n",
    "        ctx=self.bandit.get_ctx()\n",
    "        if len(self.buffer)<BATCH_SIZE:\n",
    "            action=choice([0,1])\n",
    "        else:\n",
    "            action=self.get_action(ctx.to(dtype=torch.float))\n",
    "        \n",
    "        rwd=self.bandit.get_reward(action)\n",
    "        \n",
    "        if len(self.buffer)>=4096:\n",
    "            self.buffer.pop(0)\n",
    "        \n",
    "        self.buffer.append((ctx,action,rwd))\n",
    "        \n",
    "        if len(self.buffer)>=BATCH_SIZE:\n",
    "            idxs=torch.randperm(len(self.buffer)).numpy()[:64]\n",
    "            actions=torch.tensor([self.buffer[i][1] for i in idxs],dtype=torch.long)\n",
    "            ctxs=torch.stack([self.buffer[i][0] for i in idxs]).to(dtype=torch.float)\n",
    "            rwds=torch.tensor([self.buffer[i][2] for i in idxs],dtype=torch.float)\n",
    "            \n",
    "            self.update(ctxs,actions,rwds)\n",
    "\n",
    "class Eps_Greedy(Agent):\n",
    "    def __init__(self,bandit,eps,cuda=True):\n",
    "        D=117\n",
    "        H=300\n",
    "        super(Eps_Greedy,self).__init__(bandit)\n",
    "        self.eps=eps\n",
    "        self.cuda=cuda\n",
    "        self.net=nn.Sequential(nn.Linear(D,H),\n",
    "                               nn.ReLU(),\n",
    "                               nn.Linear(H,H),\n",
    "                                nn.ReLU(),\n",
    "                               nn.Linear(H,2))\n",
    "        if cuda: self.net=self.net.to(device='cuda')\n",
    "        self.log=[]\n",
    "        self.optimizer=torch.optim.Adam(self.net.parameters(),lr=1e-2)\n",
    "    \n",
    "    def get_action(self,ctx):\n",
    "        p=torch.rand(1)\n",
    "        \n",
    "        if p<=self.eps:\n",
    "            return choice([0,1])\n",
    "        with torch.no_grad():\n",
    "            if self.cuda: ctx=ctx.cuda()\n",
    "            return self.net(ctx).argmax()\n",
    "            \n",
    "    \n",
    "    def update(self,c,a,r):\n",
    "        if self.cuda: c,a,r=c.cuda(),a.cuda(),r.cuda()\n",
    "        for it in range(BATCH_SIZE):\n",
    "            pred_r=self.net(c)[torch.arange(len(c)),a]\n",
    "            loss=((pred_r-r)**2).sum()\n",
    "            loss.backward()\n",
    "            self.log.append(int(loss.item()))\n",
    "            self.optimizer.step()\n",
    "            self.optimizer.zero_grad()\n",
    "\n",
    "            \n",
    "\n",
    "            \n",
    "bandit=Mushroom_Bandit()\n",
    "agent=Eps_Greedy(bandit,0.01)\n",
    "from tqdm import tqdm\n",
    "for _ in tqdm(range(1000)):\n",
    "    agent.step()\n",
    "\n",
    "\n",
    "            \n",
    "    \n",
    "    \n",
    "        \n",
    "        \n",
    "    "
   ]
  },
  {
   "cell_type": "code",
   "execution_count": 23,
   "metadata": {},
   "outputs": [
    {
     "data": {
      "text/plain": [
       "[<matplotlib.lines.Line2D at 0x1eb4d7b5160>]"
      ]
     },
     "execution_count": 23,
     "metadata": {},
     "output_type": "execute_result"
    },
    {
     "data": {
      "image/png": "[encoded data removed]",
      "text/plain": [
       "<Figure size 432x288 with 1 Axes>"
      ]
     },
     "metadata": {
      "needs_background": "light"
     },
     "output_type": "display_data"
    }
   ],
   "source": [
    "#plt.plot(bandit.cum_reg)\n",
    "#plt.plot(5*np.arange(1000))\n",
    "plt.plot(np.convolve(np.ones(1000),np.asarray(agent.log)))"
   ]
  },
  {
   "cell_type": "code",
   "execution_count": null,
   "metadata": {},
   "outputs": [],
   "source": [
    "class Bayesian_Agent(Agent):\n",
    "    def __init__(self,bandit,cuda=True):\n",
    "        D=117\n",
    "        H=300\n",
    "        super(Eps_Greedy,self).__init__(bandit)\n",
    "        self.eps=eps\n",
    "        self.cuda=cuda\n",
    "        self.net=nn.Sequential(BayesianLinear(D,H),\n",
    "                               nn.ReLU(),\n",
    "                               Bayesianinear(H,H),\n",
    "                                nn.ReLU(),\n",
    "                               BayesianLinear(H,2))\n",
    "        if cuda: self.net=self.net.to(device='cuda')\n",
    "        self.optimizer=torch.optim.Adam(self.net.parameters(),lr=1e-2)\n",
    "    \n",
    "    def get_action(self,ctx):\n",
    "        if self.cuda: ctx=ctx.cuda()\n",
    "        mean_logits=0.0\n",
    "        with torch.no_grad():\n",
    "            for _ in range(2):\n",
    "                mean_logits+=self.net(ctx)\n",
    "\n",
    "        return mean_logits.argmax()\n",
    "            \n",
    "    \n",
    "    def update(self,c,a,r):\n",
    "        if self.cuda: c,a,r=c.cuda(),a.cuda(),r.cuda()\n",
    "\n",
    "        for _ in range(BATCH_SIZE):\n",
    "            loss=0.0\n",
    "            for _ in range(2):\n",
    "                pred_r=self.net(c)[:,a]\n",
    "                \n",
    "                loss+=((pred_r-r)**2).sum()\n",
    "            loss.backward()\n",
    "            self.optimizer.step()\n",
    "            self.optimizer.zero_grad()"
   ]
  },
  {
   "cell_type": "code",
   "execution_count": 98,
   "metadata": {},
   "outputs": [
    {
     "data": {
      "text/plain": [
       "[<matplotlib.lines.Line2D at 0x14184b41b20>]"
      ]
     },
     "execution_count": 98,
     "metadata": {},
     "output_type": "execute_result"
    },
    {
     "data": {
      "image/png": "[encoded data removed]",
      "text/plain": [
       "<Figure size 432x288 with 1 Axes>"
      ]
     },
     "metadata": {
      "needs_background": "light"
     },
     "output_type": "display_data"
    }
   ],
   "source": []
  }
 ],
 "metadata": {
  "kernelspec": {
   "display_name": "Python 3",
   "language": "python",
   "name": "python3"
  },
  "language_info": {
   "codemirror_mode": {
    "name": "ipython",
    "version": 3
   },
   "file_extension": ".py",
   "mimetype": "text/x-python",
   "name": "python",
   "nbconvert_exporter": "python",
   "pygments_lexer": "ipython3",
   "version": "3.8.3"
  }
 },
 "nbformat": 4,
 "nbformat_minor": 4
}
