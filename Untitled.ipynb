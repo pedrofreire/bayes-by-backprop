{
 "cells": [
  {
   "cell_type": "code",
   "execution_count": 32,
   "metadata": {},
   "outputs": [],
   "source": [
    "# from importlib import reload\n",
    "import torch\n",
    "from bayes_by_backprop import BayesLinear,get_kl_loss\n",
    "import matplotlib.pyplot as plt\n",
    "import numpy as np\n",
    "import  torch.nn as nn\n",
    "\n",
    "torch.set_default_tensor_type(torch.cuda.FloatTensor)\n",
    "\n"
   ]
  },
  {
   "cell_type": "code",
   "execution_count": 2,
   "metadata": {},
   "outputs": [],
   "source": [
    "\n",
    "\n",
    "class Reg_DS:\n",
    "    def __init__(self,N=100):\n",
    "        sig=0.02\n",
    "        \n",
    "        t=torch.linspace(0,0.5,N)\n",
    "        eps=torch.randn(N)*sig\n",
    "        self.y=t+0.3*(torch.sin(2*np.pi*(t+eps))+torch.sin(4*np.pi*(t+eps)))+eps\n",
    "        self.t=t\n",
    "    def __len__(self):\n",
    "        return len(self.y)\n",
    "    def __getitem__(self,i):\n",
    "        return self.t[i],self.y[i]"
   ]
  },
  {
   "cell_type": "code",
   "execution_count": 14,
   "metadata": {},
   "outputs": [
    {
     "data": {
      "text/plain": [
       "0.0024787521766663585"
      ]
     },
     "execution_count": 14,
     "metadata": {},
     "output_type": "execute_result"
    }
   ],
   "source": [
    "np.exp(-6)"
   ]
  },
  {
   "cell_type": "code",
   "execution_count": 44,
   "metadata": {},
   "outputs": [],
   "source": [
    "def get_kl_loss(model, num_batches,pi=0.8,normalized=False,SIGMA_1=1.0,SIGMA_2=np.exp(-6)):\n",
    "    PI = torch.Tensor([pi])\n",
    "    SIGMA_1 = torch.Tensor([SIGMA_1])\n",
    "    SIGMA_2 = torch.Tensor([SIGMA_2])\n",
    "    def log_gaussian(x, mu, sigma):\n",
    "        k = torch.log(2 * np.pi * sigma**2)\n",
    "        dd=1\n",
    "        #if isinstance(x,torch.tensor): \n",
    "        #    for d in mu.shape:dd*=d\n",
    "                \n",
    "        return (-1/2) * (k + (x - mu)**2 / sigma**2)\n",
    "\n",
    "    def log_q(x, mu, std):\n",
    "        return torch.sum(log_gaussian(x, mu, std))\n",
    "\n",
    "    def log_prior(w):\n",
    "        return torch.sum(torch.logaddexp(\n",
    "            torch.log(PI) + log_gaussian(w, 0, SIGMA_1),\n",
    "            torch.log(1 - PI) + log_gaussian(w, 0, SIGMA_2),\n",
    "        ))\n",
    "\n",
    "    def layer_log_q(layer):\n",
    "        W_log_q = log_q(layer.last_W, layer.W_mu, layer.W_std)\n",
    "        b_log_q = log_q(layer.last_b, layer.b_mu, layer.b_std)\n",
    "        return W_log_q + b_log_q\n",
    "\n",
    "    def layer_log_prior(layer):\n",
    "        W_log_prior = log_prior(layer.last_W)\n",
    "        b_log_prior = log_prior(layer.last_b)\n",
    "        return W_log_prior + b_log_prior\n",
    "\n",
    "    loss = 0.0\n",
    "    for layer in model:\n",
    "        if isinstance(layer, BayesLinear):\n",
    "            loss += layer_log_q(layer) - layer_log_prior(layer)\n",
    "    return loss / num_batches\n"
   ]
  },
  {
   "cell_type": "code",
   "execution_count": null,
   "metadata": {},
   "outputs": [
    {
     "name": "stdout",
     "output_type": "stream",
     "text": [
      "epoch: 0\n",
      "loss: 1.1386669677734376\n",
      "epoch: 5\n",
      "loss: 0.7763812072753907\n",
      "epoch: 10\n",
      "loss: 0.7696112365722656\n",
      "epoch: 15\n",
      "loss: 0.7762688720703125\n",
      "epoch: 20\n",
      "loss: 0.7649924560546876\n",
      "epoch: 25\n",
      "loss: 0.7715489685058593\n",
      "epoch: 30\n",
      "loss: 0.7642245666503905\n",
      "epoch: 35\n",
      "loss: 0.7656598510742189\n"
     ]
    }
   ],
   "source": [
    "def train(\n",
    "    epochs=30,\n",
    "    num_samples=5,\n",
    "    batch_size=128,\n",
    "    lr=1e-3,bayesian=True,BETA=1e-1,\n",
    "    hid_sz=100,num_layers=3,N=1000,\n",
    "    rescale_kl=True,\n",
    "    log=[]\n",
    "):\n",
    "    ds=Reg_DS(N)\n",
    "    train_loader=torch.utils.data.DataLoader(ds,batch_size,shuffle=True)\n",
    "    num_batches=len(train_loader)\n",
    "    inp_sz = 1\n",
    "    out_sz = 1\n",
    "    linear = BayesLinear if bayesian else nn.Linear\n",
    "    model = nn.Sequential(*([\n",
    "        linear(inp_sz, hid_sz),\n",
    "        nn.ReLU()]+\n",
    "        (num_layers-2)*[linear(hid_sz, hid_sz),\n",
    "        nn.ReLU()]+\n",
    "        [linear(hid_sz, out_sz)])\n",
    "    )\n",
    "\n",
    "\n",
    "\n",
    "    \n",
    "    opt = torch.optim.Adam(model.parameters(), lr=lr)\n",
    "    for epoch in range(epochs):\n",
    "        total_loss = 0.0\n",
    "        num_correct = 0\n",
    "        for i, (X, y) in enumerate(train_loader):\n",
    "            loss = 0.0\n",
    "            X,y=X[:,None],y[:,None]\n",
    "            kl_losses=torch.zeros(num_samples)\n",
    "            reg_losses=torch.zeros(num_samples)\n",
    "            for ns in range(num_samples):\n",
    "                reg_losses[ns]=((model(X).reshape(-1)-y)**2).sum()\n",
    "                \n",
    "                if bayesian:\n",
    "                    kl_losses[ns] = get_kl_loss(model, num_batches)\n",
    "\n",
    "            kl_loss = kl_losses.mean()\n",
    "            reg_loss=reg_losses.mean()\n",
    "            if bayesian:\n",
    "                loss = BETA * kl_loss + reg_loss\n",
    "\n",
    "            else:\n",
    "                loss=reg_loss\n",
    "              \n",
    "            loss.backward()\n",
    "            log.append((reg_loss.item(),kl_loss.item(),loss.item()))\n",
    "            total_loss += loss.item() / num_samples\n",
    "\n",
    "\n",
    "\n",
    "            opt.step()\n",
    "            opt.zero_grad()\n",
    "\n",
    "\n",
    "        if epoch%5==0:\n",
    "            #print('----------')\n",
    "            print(f'epoch: {epoch}')\n",
    "            print(f'loss: {total_loss/len(ds)}')\n",
    "    return model,log\n",
    "log=[]\n",
    "model,log=train(200,lr=1e-3,bayesian=True,num_samples=5,BETA=1e-3,log=log)"
   ]
  },
  {
   "cell_type": "code",
   "execution_count": 50,
   "metadata": {},
   "outputs": [
    {
     "name": "stdout",
     "output_type": "stream",
     "text": [
      "3563.797607421875 324.43255615234375\n"
     ]
    },
    {
     "data": {
      "text/plain": [
       "10.984710195817781"
      ]
     },
     "execution_count": 50,
     "metadata": {},
     "output_type": "execute_result"
    },
    {
     "data": {
      "image/png": "[encoded data removed]",
      "text/plain": [
       "<Figure size 432x288 with 1 Axes>"
      ]
     },
     "metadata": {
      "needs_background": "light"
     },
     "output_type": "display_data"
    }
   ],
   "source": [
    "\n",
    "##plot losses\n",
    "\n",
    "#plt.plot(np.convolve(np.ones(100),np.asarray([t[0] for t in log])/10000)[100:-100])\n",
    "\n",
    "plt.plot([t[1] for t in log])\n",
    "\n",
    "item=log[-1]\n",
    "print(item[1],item[0])\n",
    "item[1]/item[0]\n",
    "#print(model)"
   ]
  },
  {
   "cell_type": "code",
   "execution_count": 41,
   "metadata": {},
   "outputs": [
    {
     "name": "stdout",
     "output_type": "stream",
     "text": [
      "0\n",
      "tensor(-0.0191, grad_fn=<MeanBackward0>) tensor(0.0944, grad_fn=<StdBackward0>)\n",
      "tensor(0.0123, grad_fn=<MeanBackward0>) tensor(0.0053, grad_fn=<StdBackward0>)\n",
      "2\n",
      "tensor(-0.0018, grad_fn=<MeanBackward0>) tensor(0.0765, grad_fn=<StdBackward0>)\n",
      "tensor(0.0145, grad_fn=<MeanBackward0>) tensor(0.0074, grad_fn=<StdBackward0>)\n",
      "4\n",
      "tensor(0.0210, grad_fn=<MeanBackward0>) tensor(0.0883, grad_fn=<StdBackward0>)\n",
      "tensor(0.0127, grad_fn=<MeanBackward0>) tensor(0.0055, grad_fn=<StdBackward0>)\n"
     ]
    }
   ],
   "source": [
    "##diagnose model\n",
    "\n",
    "for n,p in model.named_children():\n",
    "    if not isinstance(p,BayesLinear): continue\n",
    "    print(n)\n",
    "    for w in [p.W_mu,p.W_std]:\n",
    "        print(w.mean(),w.std())\n"
   ]
  },
  {
   "cell_type": "code",
   "execution_count": 52,
   "metadata": {},
   "outputs": [
    {
     "data": {
      "image/png": "[encoded data removed]",
      "text/plain": [
       "<Figure size 432x288 with 1 Axes>"
      ]
     },
     "metadata": {
      "needs_background": "light"
     },
     "output_type": "display_data"
    }
   ],
   "source": [
    "N=1000\n",
    "t=torch.linspace(0,0.5,N)\n",
    "y=model(t[:,None]).reshape(-1)\n",
    "plt.plot(t.cpu().detach(),y.cpu().detach())\n",
    "ds=Reg_DS(1000)\n",
    "#plt.scatter(ds.t.cpu(),ds.y.cpu(),marker='x',color='k')\n"
   ]
  },
  {
   "cell_type": "code",
   "execution_count": 164,
   "metadata": {},
   "outputs": [
    {
     "data": {
      "image/png": "[encoded data removed]",
      "text/plain": [
       "<Figure size 432x288 with 1 Axes>"
      ]
     },
     "metadata": {
      "needs_background": "light"
     },
     "output_type": "display_data"
    }
   ],
   "source": [
    "N=5000\n",
    "NS=10\n",
    "samples=torch.zeros(NS,N)\n",
    "t=torch.linspace(-0.2,0.8,N)\n",
    "for i in range(NS):\n",
    "    samples[i]=model(t[:,None]).reshape(-1)\n",
    "sort=torch.sort(samples,axis=0)[0].cpu().detach()\n",
    "mu,std=samples.mean(axis=0).cpu().detach(),    samples.std(axis=0).cpu().detach()\n",
    "ax=plt.subplot()\n",
    "ax.plot(t.cpu(),mu,c='b')\n",
    "ds=Reg_DS(1000)\n",
    "plt.scatter(ds.t.cpu(),ds.y.cpu(),marker='x',color='k')\n",
    "\n",
    "ax.fill_between(t.cpu(),sort[0],sort[9],color='b',alpha=0.4)\n",
    "\n",
    "plt.show()\n",
    "\n",
    "#y=t+0.3*(torch.sin(2*np.pi*(t))+torch.sin(4*np.pi*(t)))\n",
    "\n",
    "#plt.plot(y.cpu())"
   ]
  },
  {
   "cell_type": "markdown",
   "metadata": {},
   "source": [
    "## Bandits"
   ]
  },
  {
   "cell_type": "code",
   "execution_count": 54,
   "metadata": {},
   "outputs": [
    {
     "name": "stderr",
     "output_type": "stream",
     "text": [
      "100%|████████████████████████████████████████████████████████████████████████████████| 127/127 [00:06<00:00, 19.84it/s]\n",
      "  2%|█▉                                                                                | 3/127 [00:00<00:05, 20.79it/s]"
     ]
    },
    {
     "name": "stdout",
     "output_type": "stream",
     "text": [
      "----------\n",
      "epoch: 0\n",
      "loss: nan\n"
     ]
    },
    {
     "name": "stderr",
     "output_type": "stream",
     "text": [
      " 52%|██████████████████████████████████████████                                       | 66/127 [00:03<00:03, 20.07it/s]\n"
     ]
    },
    {
     "ename": "KeyboardInterrupt",
     "evalue": "",
     "output_type": "error",
     "traceback": [
      "\u001b[1;31m---------------------------------------------------------------------------\u001b[0m",
      "\u001b[1;31mKeyboardInterrupt\u001b[0m                         Traceback (most recent call last)",
      "\u001b[1;32m<ipython-input-54-94ce3158061b>\u001b[0m in \u001b[0;36m<module>\u001b[1;34m\u001b[0m\n\u001b[0;32m     43\u001b[0m             \u001b[0mpred_r\u001b[0m\u001b[1;33m=\u001b[0m\u001b[0mnet\u001b[0m\u001b[1;33m(\u001b[0m\u001b[0mX\u001b[0m\u001b[1;33m)\u001b[0m\u001b[1;33m\u001b[0m\u001b[1;33m\u001b[0m\u001b[0m\n\u001b[0;32m     44\u001b[0m             \u001b[0mkl_losses\u001b[0m\u001b[1;33m[\u001b[0m\u001b[0mi\u001b[0m\u001b[1;33m]\u001b[0m\u001b[1;33m=\u001b[0m\u001b[0mget_kl_loss\u001b[0m\u001b[1;33m(\u001b[0m\u001b[0mnet\u001b[0m\u001b[1;33m,\u001b[0m\u001b[0mlen\u001b[0m\u001b[1;33m(\u001b[0m\u001b[0mdl\u001b[0m\u001b[1;33m)\u001b[0m \u001b[1;33m)\u001b[0m\u001b[1;33m\u001b[0m\u001b[1;33m\u001b[0m\u001b[0m\n\u001b[1;32m---> 45\u001b[1;33m             \u001b[0mreg_losses\u001b[0m\u001b[1;33m[\u001b[0m\u001b[0mi\u001b[0m\u001b[1;33m]\u001b[0m\u001b[1;33m=\u001b[0m\u001b[1;33m(\u001b[0m\u001b[1;33m(\u001b[0m\u001b[0mpred_r\u001b[0m\u001b[1;33m.\u001b[0m\u001b[0mreshape\u001b[0m\u001b[1;33m(\u001b[0m\u001b[1;33m-\u001b[0m\u001b[1;36m1\u001b[0m\u001b[1;33m)\u001b[0m\u001b[1;33m-\u001b[0m\u001b[0my\u001b[0m\u001b[1;33m)\u001b[0m\u001b[1;33m**\u001b[0m\u001b[1;36m2\u001b[0m\u001b[1;33m)\u001b[0m\u001b[1;33m.\u001b[0m\u001b[0msum\u001b[0m\u001b[1;33m(\u001b[0m\u001b[1;33m)\u001b[0m\u001b[1;33m\u001b[0m\u001b[1;33m\u001b[0m\u001b[0m\n\u001b[0m\u001b[0;32m     46\u001b[0m         \u001b[0mkl_loss\u001b[0m\u001b[1;33m,\u001b[0m\u001b[0mreg_loss\u001b[0m\u001b[1;33m=\u001b[0m \u001b[0mkl_losses\u001b[0m\u001b[1;33m.\u001b[0m\u001b[0mmean\u001b[0m\u001b[1;33m(\u001b[0m\u001b[1;33m)\u001b[0m\u001b[1;33m,\u001b[0m\u001b[0mreg_losses\u001b[0m\u001b[1;33m.\u001b[0m\u001b[0mmean\u001b[0m\u001b[1;33m(\u001b[0m\u001b[1;33m)\u001b[0m\u001b[1;33m\u001b[0m\u001b[1;33m\u001b[0m\u001b[0m\n\u001b[0;32m     47\u001b[0m \u001b[1;33m\u001b[0m\u001b[0m\n",
      "\u001b[1;31mKeyboardInterrupt\u001b[0m: "
     ]
    }
   ],
   "source": [
    "import pandas as pd\n",
    "from tqdm import tqdm\n",
    "\n",
    "class Mushroom_Dataset:\n",
    "    def __init__(self,normalize=True):\n",
    "        df=pd.read_csv('data/agaricus-lepiota.data',header=None)\n",
    "        y=df[0].values\n",
    "        y=np.array([-5 if t=='p' else 5 for t in y])\n",
    "        x=pd.get_dummies(df.iloc[:,1:]).values\n",
    "        self.x=torch.tensor(x,dtype=torch.float)\n",
    "        if normalize: self.x=(self.x-self.x.mean(axis=0))/self.x.std(axis=0)\n",
    "        self.y=torch.tensor(y,dtype=torch.float)\n",
    "        \n",
    "    def __len__(self):\n",
    "        return len(self.x)\n",
    "    def __getitem__(self,i):\n",
    "        return self.x[i],self.y[i]\n",
    "    \n",
    "    \n",
    "\n",
    "    \n",
    "    \n",
    "dl=torch.utils.data.DataLoader(Mushroom_Dataset(),batch_size=64,shuffle=True)\n",
    "D=117\n",
    "H=100\n",
    "linear=BayesLinear\n",
    "net=nn.Sequential(linear(117,H),\n",
    "                               nn.ReLU(),\n",
    "                               linear(H,H),\n",
    "                                nn.ReLU(),\n",
    "                               linear(H,1))#.to(device='cuda')\n",
    "opt = torch.optim.Adam(net.parameters(), lr=1e-3)\n",
    "log=[]\n",
    "num_samples=2\n",
    "beta=1e-2\n",
    "for epoch in range(10):\n",
    "    total_loss = 0.0\n",
    "    num_correct = 0\n",
    "    for i, (X, y) in enumerate(tqdm(dl,leave=True)):\n",
    "        reg_losses=torch.zeros(num_samples)\n",
    "        kl_losses=torch.zeros(num_samples)\n",
    "        for i in range(num_samples):\n",
    "            pred_r=net(X)\n",
    "            kl_losses[i]=get_kl_loss(net,len(dl) )\n",
    "            reg_losses[i]=((pred_r.reshape(-1)-y)**2).sum()\n",
    "        kl_loss,reg_loss= kl_losses.mean(),reg_losses.mean()\n",
    "                \n",
    "        #beta_= 2**(self.num_batches-i)/(2**self.num_batches)* self.beta if self.rescale_kl else self.beta\n",
    "        loss=beta*kl_loss+reg_loss\n",
    "\n",
    "        loss.backward()\n",
    "        log.append((kl_loss.item(),reg_loss.item()))\n",
    "\n",
    "        total_loss += loss.item() \n",
    "        #num_correct += torch.sum(y_pred == y).item() \n",
    "\n",
    "        opt.step()\n",
    "        opt.zero_grad()\n",
    "    \n",
    "    #acc = num_correct / len(dl.dataset)\n",
    "\n",
    "    print('----------')\n",
    "    print(f'epoch: {epoch}')\n",
    "    print(f'loss: {total_loss}')\n",
    "    #print(f'acc : {acc}')\n",
    "        "
   ]
  },
  {
   "cell_type": "code",
   "execution_count": 30,
   "metadata": {},
   "outputs": [
    {
     "name": "stderr",
     "output_type": "stream",
     "text": [
      "  0%|                                                                                        | 0/10000 [00:00<?, ?it/s]<ipython-input-30-40c700bac265>:69: UserWarning: To copy construct from a tensor, it is recommended to use sourceTensor.clone().detach() or sourceTensor.clone().detach().requires_grad_(True), rather than torch.tensor(sourceTensor).\n",
      "  self.buffer.append((torch.tensor(ctx,dtype=torch.float),\n",
      " 10%|███████▋                                                                   | 1024/10000 [00:00<00:07, 1157.06it/s]<ipython-input-30-40c700bac265>:70: UserWarning: To copy construct from a tensor, it is recommended to use sourceTensor.clone().detach() or sourceTensor.clone().detach().requires_grad_(True), rather than torch.tensor(sourceTensor).\n",
      "  torch.tensor(action,dtype=torch.long),\n",
      " 11%|████████▊                                                                    | 1147/10000 [01:21<10:28, 14.08it/s]\n"
     ]
    },
    {
     "ename": "KeyboardInterrupt",
     "evalue": "",
     "output_type": "error",
     "traceback": [
      "\u001b[1;31m---------------------------------------------------------------------------\u001b[0m",
      "\u001b[1;31mKeyboardInterrupt\u001b[0m                         Traceback (most recent call last)",
      "\u001b[1;32m<ipython-input-30-40c700bac265>\u001b[0m in \u001b[0;36m<module>\u001b[1;34m\u001b[0m\n\u001b[0;32m    167\u001b[0m \u001b[1;32mfrom\u001b[0m \u001b[0mtqdm\u001b[0m \u001b[1;32mimport\u001b[0m \u001b[0mtqdm\u001b[0m\u001b[1;33m\u001b[0m\u001b[1;33m\u001b[0m\u001b[0m\n\u001b[0;32m    168\u001b[0m \u001b[1;32mfor\u001b[0m \u001b[0m_\u001b[0m \u001b[1;32min\u001b[0m \u001b[0mtqdm\u001b[0m\u001b[1;33m(\u001b[0m\u001b[0mrange\u001b[0m\u001b[1;33m(\u001b[0m\u001b[1;36m10000\u001b[0m\u001b[1;33m)\u001b[0m\u001b[1;33m)\u001b[0m\u001b[1;33m:\u001b[0m\u001b[1;33m\u001b[0m\u001b[1;33m\u001b[0m\u001b[0m\n\u001b[1;32m--> 169\u001b[1;33m     \u001b[0magent\u001b[0m\u001b[1;33m.\u001b[0m\u001b[0mstep\u001b[0m\u001b[1;33m(\u001b[0m\u001b[1;33m)\u001b[0m\u001b[1;33m\u001b[0m\u001b[1;33m\u001b[0m\u001b[0m\n\u001b[0m\u001b[0;32m    170\u001b[0m \u001b[1;33m\u001b[0m\u001b[0m\n\u001b[0;32m    171\u001b[0m \u001b[1;33m\u001b[0m\u001b[0m\n",
      "\u001b[1;32m<ipython-input-30-40c700bac265>\u001b[0m in \u001b[0;36mstep\u001b[1;34m(self)\u001b[0m\n\u001b[0;32m     77\u001b[0m             \u001b[1;31m#rwds=torch.tensor([self.buffer[i][2] for i in idxs],dtype=torch.float)\u001b[0m\u001b[1;33m\u001b[0m\u001b[1;33m\u001b[0m\u001b[1;33m\u001b[0m\u001b[0m\n\u001b[0;32m     78\u001b[0m \u001b[1;33m\u001b[0m\u001b[0m\n\u001b[1;32m---> 79\u001b[1;33m             \u001b[0mself\u001b[0m\u001b[1;33m.\u001b[0m\u001b[0mupdate\u001b[0m\u001b[1;33m(\u001b[0m\u001b[1;33m)\u001b[0m\u001b[1;33m\u001b[0m\u001b[1;33m\u001b[0m\u001b[0m\n\u001b[0m\u001b[0;32m     80\u001b[0m \u001b[1;33m\u001b[0m\u001b[0m\n\u001b[0;32m     81\u001b[0m \u001b[1;32mclass\u001b[0m \u001b[0mEps_Greedy\u001b[0m\u001b[1;33m(\u001b[0m\u001b[0mAgent\u001b[0m\u001b[1;33m)\u001b[0m\u001b[1;33m:\u001b[0m\u001b[1;33m\u001b[0m\u001b[1;33m\u001b[0m\u001b[0m\n",
      "\u001b[1;32m<ipython-input-30-40c700bac265>\u001b[0m in \u001b[0;36mupdate\u001b[1;34m(self)\u001b[0m\n\u001b[0;32m    155\u001b[0m             \u001b[0mkl_loss\u001b[0m\u001b[1;33m,\u001b[0m\u001b[0mreg_loss\u001b[0m\u001b[1;33m=\u001b[0m \u001b[0mkl_loss\u001b[0m\u001b[1;33m/\u001b[0m\u001b[0mself\u001b[0m\u001b[1;33m.\u001b[0m\u001b[0mnum_samples\u001b[0m\u001b[1;33m,\u001b[0m\u001b[0mreg_loss\u001b[0m\u001b[1;33m/\u001b[0m\u001b[0mself\u001b[0m\u001b[1;33m.\u001b[0m\u001b[0mnum_samples\u001b[0m\u001b[1;33m\u001b[0m\u001b[1;33m\u001b[0m\u001b[0m\n\u001b[0;32m    156\u001b[0m             \u001b[0mloss\u001b[0m\u001b[1;33m=\u001b[0m\u001b[0mself\u001b[0m\u001b[1;33m.\u001b[0m\u001b[0mbeta\u001b[0m\u001b[1;33m*\u001b[0m\u001b[0mkl_loss\u001b[0m\u001b[1;33m+\u001b[0m\u001b[0mreg_loss\u001b[0m\u001b[1;33m\u001b[0m\u001b[1;33m\u001b[0m\u001b[0m\n\u001b[1;32m--> 157\u001b[1;33m             \u001b[0mloss\u001b[0m\u001b[1;33m.\u001b[0m\u001b[0mbackward\u001b[0m\u001b[1;33m(\u001b[0m\u001b[1;33m)\u001b[0m\u001b[1;33m\u001b[0m\u001b[1;33m\u001b[0m\u001b[0m\n\u001b[0m\u001b[0;32m    158\u001b[0m             \u001b[0mself\u001b[0m\u001b[1;33m.\u001b[0m\u001b[0mlog\u001b[0m\u001b[1;33m.\u001b[0m\u001b[0mappend\u001b[0m\u001b[1;33m(\u001b[0m\u001b[1;33m(\u001b[0m\u001b[0mkl_loss\u001b[0m\u001b[1;33m.\u001b[0m\u001b[0mitem\u001b[0m\u001b[1;33m(\u001b[0m\u001b[1;33m)\u001b[0m\u001b[1;33m,\u001b[0m\u001b[0mreg_loss\u001b[0m\u001b[1;33m.\u001b[0m\u001b[0mitem\u001b[0m\u001b[1;33m(\u001b[0m\u001b[1;33m)\u001b[0m\u001b[1;33m)\u001b[0m\u001b[1;33m)\u001b[0m\u001b[1;33m\u001b[0m\u001b[1;33m\u001b[0m\u001b[0m\n\u001b[0;32m    159\u001b[0m             \u001b[0mself\u001b[0m\u001b[1;33m.\u001b[0m\u001b[0moptimizer\u001b[0m\u001b[1;33m.\u001b[0m\u001b[0mstep\u001b[0m\u001b[1;33m(\u001b[0m\u001b[1;33m)\u001b[0m\u001b[1;33m\u001b[0m\u001b[1;33m\u001b[0m\u001b[0m\n",
      "\u001b[1;32m~\\anaconda3\\lib\\site-packages\\torch\\tensor.py\u001b[0m in \u001b[0;36mbackward\u001b[1;34m(self, gradient, retain_graph, create_graph)\u001b[0m\n\u001b[0;32m    183\u001b[0m                 \u001b[0mproducts\u001b[0m\u001b[1;33m.\u001b[0m \u001b[0mDefaults\u001b[0m \u001b[0mto\u001b[0m\u001b[0;31m \u001b[0m\u001b[0;31m`\u001b[0m\u001b[0;31m`\u001b[0m\u001b[1;32mFalse\u001b[0m\u001b[0;31m`\u001b[0m\u001b[0;31m`\u001b[0m\u001b[1;33m.\u001b[0m\u001b[1;33m\u001b[0m\u001b[1;33m\u001b[0m\u001b[0m\n\u001b[0;32m    184\u001b[0m         \"\"\"\n\u001b[1;32m--> 185\u001b[1;33m         \u001b[0mtorch\u001b[0m\u001b[1;33m.\u001b[0m\u001b[0mautograd\u001b[0m\u001b[1;33m.\u001b[0m\u001b[0mbackward\u001b[0m\u001b[1;33m(\u001b[0m\u001b[0mself\u001b[0m\u001b[1;33m,\u001b[0m \u001b[0mgradient\u001b[0m\u001b[1;33m,\u001b[0m \u001b[0mretain_graph\u001b[0m\u001b[1;33m,\u001b[0m \u001b[0mcreate_graph\u001b[0m\u001b[1;33m)\u001b[0m\u001b[1;33m\u001b[0m\u001b[1;33m\u001b[0m\u001b[0m\n\u001b[0m\u001b[0;32m    186\u001b[0m \u001b[1;33m\u001b[0m\u001b[0m\n\u001b[0;32m    187\u001b[0m     \u001b[1;32mdef\u001b[0m \u001b[0mregister_hook\u001b[0m\u001b[1;33m(\u001b[0m\u001b[0mself\u001b[0m\u001b[1;33m,\u001b[0m \u001b[0mhook\u001b[0m\u001b[1;33m)\u001b[0m\u001b[1;33m:\u001b[0m\u001b[1;33m\u001b[0m\u001b[1;33m\u001b[0m\u001b[0m\n",
      "\u001b[1;32m~\\anaconda3\\lib\\site-packages\\torch\\autograd\\__init__.py\u001b[0m in \u001b[0;36mbackward\u001b[1;34m(tensors, grad_tensors, retain_graph, create_graph, grad_variables)\u001b[0m\n\u001b[0;32m    123\u001b[0m         \u001b[0mretain_graph\u001b[0m \u001b[1;33m=\u001b[0m \u001b[0mcreate_graph\u001b[0m\u001b[1;33m\u001b[0m\u001b[1;33m\u001b[0m\u001b[0m\n\u001b[0;32m    124\u001b[0m \u001b[1;33m\u001b[0m\u001b[0m\n\u001b[1;32m--> 125\u001b[1;33m     Variable._execution_engine.run_backward(\n\u001b[0m\u001b[0;32m    126\u001b[0m         \u001b[0mtensors\u001b[0m\u001b[1;33m,\u001b[0m \u001b[0mgrad_tensors\u001b[0m\u001b[1;33m,\u001b[0m \u001b[0mretain_graph\u001b[0m\u001b[1;33m,\u001b[0m \u001b[0mcreate_graph\u001b[0m\u001b[1;33m,\u001b[0m\u001b[1;33m\u001b[0m\u001b[1;33m\u001b[0m\u001b[0m\n\u001b[0;32m    127\u001b[0m         allow_unreachable=True)  # allow_unreachable flag\n",
      "\u001b[1;31mKeyboardInterrupt\u001b[0m: "
     ]
    }
   ],
   "source": [
    "from random import choice\n",
    "\n",
    "\n",
    "\n",
    "\n",
    "class Mushroom_Bandit:\n",
    "    def __init__(self):\n",
    "        df=pd.read_csv('data/agaricus-lepiota.data',header=None)\n",
    "        y=df[0].values\n",
    "        y=np.array([1 if t=='p' else 0 for t in y])\n",
    "        x=pd.get_dummies(df.iloc[:,1:]).values\n",
    "        self.x=torch.tensor(x)\n",
    "        self.y=torch.tensor(y)\n",
    "        self.cum_reg=[0]\n",
    "    \n",
    "    def get_ctx(self):\n",
    "        #self.i=torch.randint(0,len(self.x),(1))\n",
    "        self.i=np.random.randint(0,len(self.x))\n",
    "        return self.x[self.i]\n",
    "    \n",
    "    def get_reward(self,a):\n",
    "        y=self.y[self.i]\n",
    "        mer=0 if y==1 else 5\n",
    "        \n",
    "        if a==0: ##don't eat\n",
    "            self.cum_reg.append(mer+self.cum_reg[-1])\n",
    "            return 0\n",
    "        \n",
    "        if y==0: ##eat and not poisonous\n",
    "            self.cum_reg.append(self.cum_reg[-1])\n",
    "            return 0\n",
    "        \n",
    "        ##eat and poisonous\n",
    "        self.cum_reg.append(self.cum_reg[-1]+15)\n",
    "        \n",
    "        p=torch.rand(1)\n",
    "        if p>=0.5:\n",
    "            return 5\n",
    "        \n",
    "        return -35\n",
    "    \n",
    "\n",
    "\n",
    "    \n",
    "  \n",
    "class Agent:\n",
    "    def __init__(self,bandit,num_batches):\n",
    "        self.buffer=[]\n",
    "        self.bandit=bandit\n",
    "        self.BUFFER_SIZE=64*num_batches\n",
    "    \n",
    "    \n",
    "    def update():\n",
    "        pass\n",
    "        \n",
    "    \n",
    "    def get_action(self,ctx):\n",
    "        pass\n",
    "    \n",
    "    def step(self):\n",
    "        ctx=self.bandit.get_ctx()\n",
    "        if len(self.buffer)<self.BUFFER_SIZE:\n",
    "            action=choice([0,1])\n",
    "        else:\n",
    "            action=self.get_action(ctx.to(dtype=torch.float))\n",
    "        \n",
    "        rwd=self.bandit.get_reward(action)\n",
    "        \n",
    "        if len(self.buffer)>=self.BUFFER_SIZE:\n",
    "            self.buffer.pop(0)\n",
    "        \n",
    "        self.buffer.append((torch.tensor(ctx,dtype=torch.float),\n",
    "                            torch.tensor(action,dtype=torch.long),\n",
    "                            torch.tensor(rwd,dtype=torch.float)))\n",
    "        \n",
    "        if len(self.buffer)>=self.BUFFER_SIZE:\n",
    "            #idxs=torch.randperm(len(self.buffer)).cpu().numpy()[:64]\n",
    "            #actions=torch.tensor([self.buffer[i][1] for i in idxs],dtype=torch.long)\n",
    "            #ctxs=torch.stack([self.buffer[i][0] for i in idxs]).to(dtype=torch.float)\n",
    "            #rwds=torch.tensor([self.buffer[i][2] for i in idxs],dtype=torch.float)\n",
    "            \n",
    "            self.update()\n",
    "\n",
    "class Eps_Greedy(Agent):\n",
    "    def __init__(self,bandit,eps,cuda=True):\n",
    "        D=117\n",
    "        H=100\n",
    "        super(Eps_Greedy,self).__init__(bandit)\n",
    "        self.eps=eps\n",
    "        self.cuda=cuda\n",
    "        self.net=nn.Sequential(nn.Linear(D,H),\n",
    "                               nn.ReLU(),\n",
    "                               nn.Linear(H,H),\n",
    "                                nn.ReLU(),\n",
    "                               nn.Linear(H,2))\n",
    "        if cuda: self.net=self.net.to(device='cuda')\n",
    "        self.log=[]\n",
    "        self.optimizer=torch.optim.Adam(self.net.parameters(),lr=1e-2)\n",
    "    \n",
    "    def get_action(self,ctx):\n",
    "        p=torch.rand(1)\n",
    "        \n",
    "        if p<=self.eps:\n",
    "            return choice([0,1])\n",
    "        with torch.no_grad():\n",
    "            if self.cuda: ctx=ctx.cuda()\n",
    "            return self.net(ctx).argmax()\n",
    "            \n",
    "    \n",
    "    def update(self):\n",
    "        #if self.cuda: c,a,r=c.cuda(),a.cuda(),r.cuda()\n",
    "        dl=torch.utils.data.DataLoader(self.buffer,64,True)\n",
    "        for c,a,r in dl:\n",
    "            pred_r=self.net(c)[torch.arange(len(c)),a]\n",
    "            loss=((pred_r-r)**2).sum()\n",
    "            loss.backward()\n",
    "            self.log.append(int(loss.item()))\n",
    "            self.optimizer.step()\n",
    "            self.optimizer.zero_grad()\n",
    "class Bayesian_Agent(Agent):\n",
    "    def __init__(self,bandit,cuda=True,num_samples=2,beta=1e-3,lr=1e-2,num_epochs=10,rescale_kl=True,num_batches=16):\n",
    "        D=117\n",
    "        H=100\n",
    "        self.num_epochs=10\n",
    "        super(Bayesian_Agent,self).__init__(bandit,num_batches)\n",
    "        self.cuda=cuda\n",
    "        self.num_samples=num_samples\n",
    "        self.rescale_kl=rescale_kl\n",
    "        self.num_batches=num_batches\n",
    "        self.beta=beta\n",
    "        self.net=nn.Sequential(BayesLinear(D,H),\n",
    "                               nn.ReLU(),\n",
    "                               BayesLinear(H,H),\n",
    "                                nn.ReLU(),\n",
    "                               BayesLinear(H,2))\n",
    "        if cuda: self.net=self.net.to(device='cuda')\n",
    "        self.optimizer=torch.optim.Adam(self.net.parameters(),lr=lr)\n",
    "        self.log=[]\n",
    "    \n",
    "    def get_action(self,ctx):\n",
    "        if self.cuda: ctx=ctx.cuda()\n",
    "        mean_logits=0.0\n",
    "        with torch.no_grad():\n",
    "            for _ in range(2):\n",
    "                mean_logits+=self.net(ctx)\n",
    "\n",
    "        return mean_logits.argmax()\n",
    "            \n",
    "    \n",
    "    def update(self):\n",
    "        #if self.cuda: c,a,r=c.cuda(),a.cuda(),r.cuda()\n",
    "        dl=torch.utils.data.DataLoader(self.buffer,64,True)\n",
    "        for i,(c,a,r )in enumerate(dl):\n",
    "            reg_loss=torch.zeros(num_samples)\n",
    "            kl_losses=torch.zeros(num_samples)\n",
    "            for _ in range(self.num_samples):\n",
    "                pred_r=self.net(c)[torch.arange(len(a)),a.reshape(-1)]\n",
    "                kl_losses[i]=get_kl_loss(self.net, 1)\n",
    "                reg_losses[i]=((pred_r.reshape(-1)-r)**2).sum()\n",
    "            kl_loss,reg_loss= kl_losses.mean,reg_loss.mean()\n",
    "                    \n",
    "            beta_= 2**(self.num_batches-i)/(2**self.num_batches)* self.beta if self.rescale_kl else self.beta\n",
    "            loss=self.beta*kl_loss+reg_loss\n",
    "\n",
    "            loss.backward()\n",
    "            self.log.append((kl_loss.item(),reg_loss.item()))\n",
    "            self.optimizer.step()\n",
    "            self.optimizer.zero_grad()\n",
    "import pandas as pd           \n",
    "\n",
    "            \n",
    "bandit=Mushroom_Bandit()\n",
    "#agent=Eps_Greedy(bandit,0.01)\n",
    "agent=Bayesian_Agent(bandit,beta=1e-2,num_batches=16)\n",
    "from tqdm import tqdm\n",
    "for i in tqdm(range(40000)):\n",
    "    agent.step()\n",
    "    #if i%500==0 and i>=500: print(f'cum_reg {i} ',(bandit.cum_reg[-1]-bandit.cum_reg[-100])/100)\n",
    "\n",
    "\n",
    "\n",
    "            \n",
    "    \n",
    "    \n",
    "        \n",
    "        \n",
    "    "
   ]
  },
  {
   "cell_type": "code",
   "execution_count": 27,
   "metadata": {},
   "outputs": [
    {
     "data": {
      "text/plain": [
       "[<matplotlib.lines.Line2D at 0x20bd3bc3280>]"
      ]
     },
     "execution_count": 27,
     "metadata": {},
     "output_type": "execute_result"
    },
    {
     "data": {
      "image/png": "[encoded data removed]",
      "text/plain": [
       "<Figure size 432x288 with 1 Axes>"
      ]
     },
     "metadata": {
      "needs_background": "light"
     },
     "output_type": "display_data"
    }
   ],
   "source": [
    "item=agent.log[-1]\n",
    "#print(item[1]/item[0])\n",
    "#plt.plot([t for t in agent.log])\n",
    "plt.plot([t for t in bandit.cum_reg])"
   ]
  },
  {
   "cell_type": "code",
   "execution_count": 66,
   "metadata": {},
   "outputs": [
    {
     "ename": "NameError",
     "evalue": "name 'agent' is not defined",
     "output_type": "error",
     "traceback": [
      "\u001b[1;31m---------------------------------------------------------------------------\u001b[0m",
      "\u001b[1;31mNameError\u001b[0m                                 Traceback (most recent call last)",
      "\u001b[1;32m<ipython-input-66-85bbf31a859a>\u001b[0m in \u001b[0;36m<module>\u001b[1;34m\u001b[0m\n\u001b[0;32m      1\u001b[0m \u001b[1;31m#plt.plot(bandit.cum_reg)\u001b[0m\u001b[1;33m\u001b[0m\u001b[1;33m\u001b[0m\u001b[1;33m\u001b[0m\u001b[0m\n\u001b[0;32m      2\u001b[0m \u001b[1;31m#plt.plot(5*np.arange(1000))\u001b[0m\u001b[1;33m\u001b[0m\u001b[1;33m\u001b[0m\u001b[1;33m\u001b[0m\u001b[0m\n\u001b[1;32m----> 3\u001b[1;33m \u001b[0mplt\u001b[0m\u001b[1;33m.\u001b[0m\u001b[0mplot\u001b[0m\u001b[1;33m(\u001b[0m\u001b[0mnp\u001b[0m\u001b[1;33m.\u001b[0m\u001b[0mconvolve\u001b[0m\u001b[1;33m(\u001b[0m\u001b[0mnp\u001b[0m\u001b[1;33m.\u001b[0m\u001b[0mones\u001b[0m\u001b[1;33m(\u001b[0m\u001b[1;36m1000\u001b[0m\u001b[1;33m)\u001b[0m\u001b[1;33m,\u001b[0m\u001b[0mnp\u001b[0m\u001b[1;33m.\u001b[0m\u001b[0masarray\u001b[0m\u001b[1;33m(\u001b[0m\u001b[0magent\u001b[0m\u001b[1;33m.\u001b[0m\u001b[0mlog\u001b[0m\u001b[1;33m)\u001b[0m\u001b[1;33m)\u001b[0m\u001b[1;33m)\u001b[0m\u001b[1;33m\u001b[0m\u001b[1;33m\u001b[0m\u001b[0m\n\u001b[0m",
      "\u001b[1;31mNameError\u001b[0m: name 'agent' is not defined"
     ]
    }
   ],
   "source": [
    "#plt.plot(bandit.cum_reg)\n",
    "#plt.plot(5*np.arange(1000))\n",
    "plt.plot(np.convolve(np.ones(1000),np.asarray(agent.log)))"
   ]
  },
  {
   "cell_type": "code",
   "execution_count": 74,
   "metadata": {},
   "outputs": [],
   "source": []
  },
  {
   "cell_type": "code",
   "execution_count": 98,
   "metadata": {},
   "outputs": [
    {
     "data": {
      "text/plain": [
       "[<matplotlib.lines.Line2D at 0x14184b41b20>]"
      ]
     },
     "execution_count": 98,
     "metadata": {},
     "output_type": "execute_result"
    },
    {
     "data": {
      "image/png": "[encoded data removed]",
      "text/plain": [
       "<Figure size 432x288 with 1 Axes>"
      ]
     },
     "metadata": {
      "needs_background": "light"
     },
     "output_type": "display_data"
    }
   ],
   "source": []
  }
 ],
 "metadata": {
  "kernelspec": {
   "display_name": "Python 3",
   "language": "python",
   "name": "python3"
  },
  "language_info": {
   "codemirror_mode": {
    "name": "ipython",
    "version": 3
   },
   "file_extension": ".py",
   "mimetype": "text/x-python",
   "name": "python",
   "nbconvert_exporter": "python",
   "pygments_lexer": "ipython3",
   "version": "3.8.3"
  }
 },
 "nbformat": 4,
 "nbformat_minor": 4
}
