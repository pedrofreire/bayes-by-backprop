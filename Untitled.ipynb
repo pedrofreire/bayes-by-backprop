{
 "cells": [
  {
   "cell_type": "code",
   "execution_count": 2,
   "metadata": {},
   "outputs": [],
   "source": [
    "# from importlib import reload\n",
    "import torch\n",
    "from bayes_by_backprop import BayesLinear,get_kl_loss\n",
    "import matplotlib.pyplot as plt\n",
    "import numpy as np\n",
    "import  torch.nn as nn\n"
   ]
  },
  {
   "cell_type": "code",
   "execution_count": 297,
   "metadata": {},
   "outputs": [
    {
     "name": "stdout",
     "output_type": "stream",
     "text": [
      "torch.Size([1000])\n"
     ]
    },
    {
     "data": {
      "text/plain": [
       "<__main__.Reg_DS at 0x1a42800d460>"
      ]
     },
     "execution_count": 297,
     "metadata": {},
     "output_type": "execute_result"
    }
   ],
   "source": [
    "\n",
    "\n",
    "\n",
    "class Reg_DS:\n",
    "    def __init__(self,N=1000,sig=0.02,norm=True):\n",
    "        t=torch.linspace(0,0.5,N)\n",
    "        eps=torch.randn(N)*sig\n",
    "        y=t+0.3*(torch.sin(2*np.pi*(t+eps))+torch.sin(4*np.pi*(t+eps)))+eps\n",
    "        self.norm=norm\n",
    "        if norm:\n",
    "            self.tmean,self.ymean=t.mean(),y.mean()\n",
    "            self.tstd,self.ystd=t.std(),y.std()\n",
    "\n",
    "            t=(t-t.mean())/t.std()\n",
    "            #y=(y-self.ymean)/self.ystd\n",
    "            print(y.shape)\n",
    "        self.t=t\n",
    "        self.y=y\n",
    "\n",
    "#    def normalize(self):\n",
    "#        self.t,self.y=normalize(self.t),normalize(self.y)\n",
    "\n",
    "    def __len__(self):\n",
    "        return len(self.y)\n",
    "    def __getitem__(self,i):\n",
    "        #if self.norm:\n",
    "        #    return self.t[i]*self.tstd+self.tmean,self.y[i]*self.ystd+self.ymean\n",
    "        return self.t[i],self.y[i]\n",
    "Reg_DS()"
   ]
  },
  {
   "cell_type": "code",
   "execution_count": 355,
   "metadata": {},
   "outputs": [
    {
     "name": "stdout",
     "output_type": "stream",
     "text": [
      "torch.Size([1000])\n",
      "epoch: 1\n",
      "loss: 0.6454461086541414\n",
      "epoch: 2\n",
      "loss: 0.5507682394236326\n",
      "epoch: 3\n",
      "loss: 0.4741100687533617\n",
      "epoch: 4\n",
      "loss: 0.4154019635170698\n",
      "epoch: 5\n",
      "loss: 0.37716981023550034\n",
      "epoch: 6\n",
      "loss: 0.3343219682574272\n",
      "epoch: 7\n",
      "loss: 0.30761220306158066\n",
      "epoch: 8\n",
      "loss: 0.2856728993356228\n",
      "epoch: 9\n",
      "loss: 0.2696850011125207\n",
      "epoch: 10\n",
      "loss: 0.24734909180551767\n",
      "epoch: 11\n",
      "loss: 0.23267200496047735\n",
      "epoch: 12\n",
      "loss: 0.21987074567005038\n",
      "epoch: 13\n",
      "loss: 0.20622623851522803\n",
      "epoch: 14\n",
      "loss: 0.19708554726094007\n",
      "epoch: 15\n",
      "loss: 0.19011632911860943\n",
      "epoch: 16\n",
      "loss: 0.17801334848627448\n",
      "epoch: 17\n",
      "loss: 0.17061263415962458\n",
      "epoch: 18\n",
      "loss: 0.16304234182462096\n",
      "epoch: 19\n",
      "loss: 0.15664358204230666\n",
      "epoch: 20\n",
      "loss: 0.15180719830095768\n",
      "epoch: 21\n",
      "loss: 0.14636120246723294\n",
      "epoch: 22\n",
      "loss: 0.14157258020713925\n",
      "epoch: 23\n",
      "loss: 0.13688053144142032\n",
      "epoch: 24\n",
      "loss: 0.13098428631201386\n",
      "epoch: 25\n",
      "loss: 0.12914605299010873\n",
      "epoch: 26\n",
      "loss: 0.12293050577864051\n",
      "epoch: 27\n",
      "loss: 0.11996297631412745\n",
      "epoch: 28\n",
      "loss: 0.11610806360840797\n",
      "epoch: 29\n",
      "loss: 0.11602313490584493\n",
      "epoch: 30\n",
      "loss: 0.1130536375567317\n",
      "epoch: 31\n",
      "loss: 0.10799582954496145\n",
      "epoch: 32\n",
      "loss: 0.10463801771402359\n",
      "epoch: 33\n",
      "loss: 0.10462724650278687\n",
      "epoch: 34\n",
      "loss: 0.1010672696866095\n",
      "epoch: 35\n",
      "loss: 0.09984720684587955\n",
      "epoch: 36\n",
      "loss: 0.09711961867287755\n",
      "epoch: 37\n",
      "loss: 0.09599354211241007\n",
      "epoch: 38\n",
      "loss: 0.09392276033759117\n",
      "epoch: 39\n",
      "loss: 0.09307038877159357\n",
      "epoch: 40\n",
      "loss: 0.09014457906596363\n",
      "epoch: 41\n",
      "loss: 0.09015418589115143\n",
      "epoch: 42\n",
      "loss: 0.08826535241678357\n",
      "epoch: 43\n",
      "loss: 0.08614784362725914\n",
      "epoch: 44\n",
      "loss: 0.08555940701626241\n",
      "epoch: 45\n",
      "loss: 0.08577225636690855\n",
      "epoch: 46\n",
      "loss: 0.08396647544577718\n",
      "epoch: 47\n",
      "loss: 0.082738206256181\n",
      "epoch: 48\n",
      "loss: 0.08221760299056768\n",
      "epoch: 49\n",
      "loss: 0.08256417559459805\n",
      "epoch: 50\n",
      "loss: 0.08102120668627322\n",
      "epoch: 51\n",
      "loss: 0.08014659467153251\n",
      "epoch: 52\n",
      "loss: 0.07999561168253422\n",
      "epoch: 53\n",
      "loss: 0.07909175008535385\n",
      "epoch: 54\n",
      "loss: 0.07926975493319333\n",
      "epoch: 55\n",
      "loss: 0.07980949245393276\n",
      "epoch: 56\n",
      "loss: 0.07797190151177347\n",
      "epoch: 57\n",
      "loss: 0.07766908616758883\n",
      "epoch: 58\n",
      "loss: 0.07854603976011276\n",
      "epoch: 59\n",
      "loss: 0.07760824798606336\n",
      "epoch: 60\n",
      "loss: 0.07641581515781581\n",
      "epoch: 61\n",
      "loss: 0.07567255676258355\n",
      "epoch: 62\n",
      "loss: 0.07644333364441991\n",
      "epoch: 63\n",
      "loss: 0.07597628515213728\n",
      "epoch: 64\n",
      "loss: 0.0752955456264317\n",
      "epoch: 65\n",
      "loss: 0.07477683573961258\n",
      "epoch: 66\n",
      "loss: 0.07516204658895731\n",
      "epoch: 67\n",
      "loss: 0.07480416307225823\n",
      "epoch: 68\n",
      "loss: 0.07446365896612406\n",
      "epoch: 69\n",
      "loss: 0.07426961185410619\n",
      "epoch: 70\n",
      "loss: 0.07353519066236913\n",
      "epoch: 71\n",
      "loss: 0.07515485817566514\n",
      "epoch: 72\n",
      "loss: 0.07412689249031246\n",
      "epoch: 73\n",
      "loss: 0.07320077461190522\n",
      "epoch: 74\n",
      "loss: 0.07346490491181612\n",
      "epoch: 75\n",
      "loss: 0.07290702848695219\n",
      "epoch: 76\n",
      "loss: 0.07272459636442363\n",
      "epoch: 77\n",
      "loss: 0.07260583760216832\n",
      "epoch: 78\n",
      "loss: 0.07318137772381306\n",
      "epoch: 79\n",
      "loss: 0.07246961072087288\n",
      "epoch: 80\n",
      "loss: 0.07199360779486597\n",
      "epoch: 81\n",
      "loss: 0.07149629388004541\n",
      "epoch: 82\n",
      "loss: 0.07187077635899186\n",
      "epoch: 83\n",
      "loss: 0.07084274990484118\n",
      "epoch: 84\n",
      "loss: 0.0722901166882366\n",
      "epoch: 85\n",
      "loss: 0.0729539031162858\n",
      "epoch: 86\n",
      "loss: 0.07071129977703094\n",
      "epoch: 87\n",
      "loss: 0.07167727081105113\n",
      "epoch: 88\n",
      "loss: 0.07104556425474584\n",
      "epoch: 89\n",
      "loss: 0.07119376037735492\n",
      "epoch: 90\n",
      "loss: 0.07109414576552808\n",
      "epoch: 91\n",
      "loss: 0.07069249521009624\n",
      "epoch: 92\n",
      "loss: 0.0700189562048763\n",
      "epoch: 93\n",
      "loss: 0.07022511609829962\n",
      "epoch: 94\n",
      "loss: 0.07079877657815814\n",
      "epoch: 95\n",
      "loss: 0.07197089400142431\n",
      "epoch: 96\n",
      "loss: 0.07075389241799712\n",
      "epoch: 97\n",
      "loss: 0.07071416522376239\n",
      "epoch: 98\n",
      "loss: 0.07086400617845356\n",
      "epoch: 99\n",
      "loss: 0.07080620131455362\n",
      "torch.Size([1000]) torch.Size([1000])\n"
     ]
    },
    {
     "data": {
      "text/plain": [
       "[<matplotlib.lines.Line2D at 0x1a427f1bf40>]"
      ]
     },
     "execution_count": 355,
     "metadata": {},
     "output_type": "execute_result"
    },
    {
     "data": {
      "image/png": "[encoded data removed]",
      "text/plain": [
       "<Figure size 432x288 with 1 Axes>"
      ]
     },
     "metadata": {
      "needs_background": "light"
     },
     "output_type": "display_data"
    }
   ],
   "source": [
    "\n",
    "ds=Reg_DS(norm=True)\n",
    "train_loader=torch.utils.data.DataLoader(ds,64,shuffle=True)\n",
    "num_batches=len(train_loader)\n",
    "inp_sz = 1\n",
    "hid_sz=100\n",
    "out_sz = 1\n",
    "linear = nn.Linear\n",
    "model = nn.Sequential(*([\n",
    "    linear(inp_sz, hid_sz),\n",
    "    nn.ReLU()]+\n",
    "    (3-2)*[linear(hid_sz, hid_sz),\n",
    "    nn.ReLU()]+\n",
    "    [linear(hid_sz, out_sz)])\n",
    ")\n",
    "opt = torch.optim.SGD(model.parameters(), lr=1e-2,)\n",
    "log=[]\n",
    "for epoch in range(100):\n",
    "    total_loss = 0.0\n",
    "    num_correct = 0\n",
    "    for i, (X, y) in enumerate(train_loader):\n",
    "        #X,y=normalize(X),normalize(y)\n",
    "        #X=(X-X.mean())/X.std()\n",
    "        ypred=model(X[:,None])\n",
    "        loss=((ypred.reshape(-1)-y)**2).mean()\n",
    "        loss.backward()\n",
    "            \n",
    "        total_loss += loss.item() \n",
    "        \n",
    "\n",
    "        opt.step()\n",
    "        opt.zero_grad()\n",
    "\n",
    "\n",
    "    if epoch:\n",
    "        #print('----------')\n",
    "        print(f'epoch: {epoch}')\n",
    "        print(f'loss: {total_loss}')\n",
    "print(ds.t.shape,ds.y.shape)\n",
    "t=ds.t\n",
    "plt.scatter(ds.t.cpu(),ds.y.cpu(),marker='x',color='k')\n",
    "\n",
    "plt.plot((ds.t).cpu().detach(),model(t[:,None]).cpu().detach())\n",
    "\n",
    "\n"
   ]
  },
  {
   "cell_type": "code",
   "execution_count": 325,
   "metadata": {},
   "outputs": [
    {
     "data": {
      "text/plain": [
       "[<matplotlib.lines.Line2D at 0x1a3f1f737c0>]"
      ]
     },
     "execution_count": 325,
     "metadata": {},
     "output_type": "execute_result"
    },
    {
     "data": {
      "image/png": "[encoded data removed]",
      "text/plain": [
       "<Figure size 432x288 with 1 Axes>"
      ]
     },
     "metadata": {
      "needs_background": "light"
     },
     "output_type": "display_data"
    }
   ],
   "source": [
    "plt.plot([t[0] for t in log])"
   ]
  },
  {
   "cell_type": "code",
   "execution_count": 361,
   "metadata": {},
   "outputs": [
    {
     "name": "stdout",
     "output_type": "stream",
     "text": [
      "torch.Size([1000])\n",
      "epoch: 1\n",
      "loss: 0.3028842946514487\n",
      "epoch: 2\n",
      "loss: 0.25203233677893877\n",
      "epoch: 3\n",
      "loss: 0.2277602842077613\n",
      "epoch: 4\n",
      "loss: 0.20043737441301346\n",
      "epoch: 5\n",
      "loss: 0.1899294788017869\n",
      "epoch: 6\n",
      "loss: 0.18268975941464305\n",
      "epoch: 7\n",
      "loss: 0.1781488941051066\n",
      "epoch: 8\n",
      "loss: 0.1663757455535233\n",
      "epoch: 9\n",
      "loss: 0.16874821530655026\n",
      "epoch: 10\n",
      "loss: 0.15983276953920722\n",
      "epoch: 11\n",
      "loss: 0.15198728907853365\n",
      "epoch: 12\n",
      "loss: 0.1464908178895712\n",
      "epoch: 13\n",
      "loss: 0.15002525318413973\n",
      "epoch: 14\n",
      "loss: 0.14314366411417723\n",
      "epoch: 15\n",
      "loss: 0.13951513543725014\n",
      "epoch: 16\n",
      "loss: 0.15221190033480525\n",
      "epoch: 17\n",
      "loss: 0.13976291380822659\n",
      "epoch: 18\n",
      "loss: 0.14639519341289997\n",
      "epoch: 19\n",
      "loss: 0.1454206290654838\n",
      "epoch: 20\n",
      "loss: 0.140927460975945\n",
      "epoch: 21\n",
      "loss: 0.13681839406490326\n",
      "epoch: 22\n",
      "loss: 0.144238764885813\n",
      "epoch: 23\n",
      "loss: 0.13744806358590722\n",
      "epoch: 24\n",
      "loss: 0.14533456973731518\n",
      "epoch: 25\n",
      "loss: 0.1432616226375103\n",
      "epoch: 26\n",
      "loss: 0.13963113445788622\n",
      "epoch: 27\n",
      "loss: 0.13540062587708235\n",
      "epoch: 28\n",
      "loss: 0.13923394540324807\n",
      "epoch: 29\n",
      "loss: 0.1468502189964056\n",
      "epoch: 30\n",
      "loss: 0.137263179756701\n",
      "epoch: 31\n",
      "loss: 0.14758484158664942\n",
      "epoch: 32\n",
      "loss: 0.14351379545405507\n",
      "epoch: 33\n",
      "loss: 0.1352658635005355\n",
      "epoch: 34\n",
      "loss: 0.13491304544731975\n",
      "epoch: 35\n",
      "loss: 0.1337427394464612\n",
      "epoch: 36\n",
      "loss: 0.1324470518156886\n",
      "epoch: 37\n",
      "loss: 0.1327524776570499\n",
      "epoch: 38\n",
      "loss: 0.15015834895893931\n",
      "epoch: 39\n",
      "loss: 0.13383249752223492\n",
      "epoch: 40\n",
      "loss: 0.13291810220107436\n",
      "epoch: 41\n",
      "loss: 0.14167856331914663\n",
      "epoch: 42\n",
      "loss: 0.1295825787819922\n",
      "epoch: 43\n",
      "loss: 0.14391144691035151\n",
      "epoch: 44\n",
      "loss: 0.1339421677403152\n",
      "epoch: 45\n",
      "loss: 0.1324026258662343\n",
      "epoch: 46\n",
      "loss: 0.1307604000903666\n",
      "epoch: 47\n",
      "loss: 0.13227676739916205\n",
      "epoch: 48\n",
      "loss: 0.14334591198712587\n",
      "epoch: 49\n",
      "loss: 0.13876192551106215\n",
      "epoch: 50\n",
      "loss: 0.1322454120963812\n",
      "epoch: 51\n",
      "loss: 0.1323535735718906\n",
      "epoch: 52\n",
      "loss: 0.13307626266032457\n",
      "epoch: 53\n",
      "loss: 0.13778609316796064\n",
      "epoch: 54\n",
      "loss: 0.1331157349050045\n",
      "epoch: 55\n",
      "loss: 0.14031301997601986\n",
      "epoch: 56\n",
      "loss: 0.13018653029575944\n",
      "epoch: 57\n",
      "loss: 0.12665817141532898\n",
      "epoch: 58\n",
      "loss: 0.13524390337988734\n",
      "epoch: 59\n",
      "loss: 0.13994468469172716\n",
      "epoch: 60\n",
      "loss: 0.13762139296159148\n",
      "epoch: 61\n",
      "loss: 0.13722717016935349\n",
      "epoch: 62\n",
      "loss: 0.13004713272675872\n",
      "epoch: 63\n",
      "loss: 0.14329478237777948\n",
      "epoch: 64\n",
      "loss: 0.13139521516859531\n",
      "epoch: 65\n",
      "loss: 0.13172072730958462\n",
      "epoch: 66\n",
      "loss: 0.1309809172526002\n",
      "epoch: 67\n",
      "loss: 0.13549826247617602\n",
      "epoch: 68\n",
      "loss: 0.13945857668295503\n",
      "epoch: 69\n",
      "loss: 0.13026975886896253\n",
      "epoch: 70\n",
      "loss: 0.13546184403821826\n",
      "epoch: 71\n",
      "loss: 0.12782420124858618\n",
      "epoch: 72\n",
      "loss: 0.13674884708598256\n",
      "epoch: 73\n",
      "loss: 0.14114287588745356\n",
      "epoch: 74\n",
      "loss: 0.13243005890399218\n",
      "epoch: 75\n",
      "loss: 0.13155787251889706\n",
      "epoch: 76\n",
      "loss: 0.1303146700374782\n",
      "epoch: 77\n",
      "loss: 0.13583369832485914\n",
      "epoch: 78\n",
      "loss: 0.13415450369939208\n",
      "epoch: 79\n",
      "loss: 0.13001151150092483\n",
      "epoch: 80\n",
      "loss: 0.13172224024310708\n",
      "epoch: 81\n",
      "loss: 0.12484464282169938\n",
      "epoch: 82\n",
      "loss: 0.12518853368237615\n",
      "epoch: 83\n",
      "loss: 0.13660344388335943\n",
      "epoch: 84\n",
      "loss: 0.1282621338032186\n",
      "epoch: 85\n",
      "loss: 0.1328851841390133\n",
      "epoch: 86\n",
      "loss: 0.13136934442445636\n",
      "epoch: 87\n",
      "loss: 0.1313570817001164\n",
      "epoch: 88\n",
      "loss: 0.13144804304465652\n",
      "epoch: 89\n",
      "loss: 0.13600919395685196\n",
      "epoch: 90\n",
      "loss: 0.14235497592017055\n",
      "epoch: 91\n",
      "loss: 0.13174661435186863\n",
      "epoch: 92\n",
      "loss: 0.13130794977769256\n",
      "epoch: 93\n",
      "loss: 0.1278975992463529\n",
      "epoch: 94\n",
      "loss: 0.12766996212303638\n",
      "epoch: 95\n",
      "loss: 0.12671483773738146\n",
      "epoch: 96\n",
      "loss: 0.13799441698938608\n",
      "epoch: 97\n",
      "loss: 0.13164457445964217\n",
      "epoch: 98\n",
      "loss: 0.12884430307894945\n",
      "epoch: 99\n",
      "loss: 0.13359242351725698\n"
     ]
    }
   ],
   "source": [
    "def train(\n",
    "    epochs=30,\n",
    "    num_samples=5,\n",
    "    batch_size=64,\n",
    "    lr=1e-3,bayesian=True,BETA=1e-1,\n",
    "    hid_sz=100,num_layers=3,log=[]\n",
    "):\n",
    "    train_loader=torch.utils.data.DataLoader(Reg_DS(norm=True),batch_size,shuffle=True)\n",
    "    num_batches=len(train_loader)\n",
    "    inp_sz = 1\n",
    "    out_sz = 1\n",
    "    linear = BayesLinear if bayesian else nn.Linear\n",
    "    model = nn.Sequential(*([\n",
    "        linear(inp_sz, hid_sz),\n",
    "        nn.ReLU()]+\n",
    "        (num_layers-2)*[linear(hid_sz, hid_sz),\n",
    "        nn.ReLU()]+\n",
    "        [linear(hid_sz, out_sz)])\n",
    "    )\n",
    "\n",
    "\n",
    "\n",
    "    \n",
    "    opt = torch.optim.SGD(model.parameters(), lr=lr)\n",
    "    for epoch in range(epochs):\n",
    "        total_loss = 0.0\n",
    "        num_correct = 0\n",
    "        for i, (X, y) in enumerate(train_loader):\n",
    "            kl_losses=torch.zeros(num_samples)\n",
    "            reg_losses=torch.zeros(num_samples)\n",
    "            for ns in range(num_samples):\n",
    "                reg_losses[ns]=((model(X[:,None]).reshape(-1)-y)**2).mean()\n",
    "                \n",
    "                if bayesian:\n",
    "                    kl_losses[ns] = get_kl_loss(model, num_batches)\n",
    "\n",
    "            kl_loss = kl_losses.mean()\n",
    "            reg_loss=reg_losses.mean()\n",
    "            if bayesian:\n",
    "                loss = BETA * kl_loss + reg_loss\n",
    "\n",
    "            else:\n",
    "                loss=reg_loss\n",
    "              \n",
    "            loss.backward()\n",
    "            log.append((reg_loss.item(),kl_loss.item(),loss.item()))\n",
    "            total_loss += loss.item() \n",
    "\n",
    "\n",
    "            opt.step()\n",
    "            opt.zero_grad()\n",
    "\n",
    "\n",
    "        if epoch:\n",
    "            #print('----------')\n",
    "            print(f'epoch: {epoch}')\n",
    "            print(f'loss: {total_loss}')\n",
    "    return model,log\n",
    "\n",
    "log=[]\n",
    "model,log=train(100,lr=1e-1,bayesian=True,num_samples=3,BETA=1e-6,log=log)"
   ]
  },
  {
   "cell_type": "code",
   "execution_count": 323,
   "metadata": {},
   "outputs": [],
   "source": [
    "bmodel,blog=model,log"
   ]
  },
  {
   "cell_type": "code",
   "execution_count": 362,
   "metadata": {},
   "outputs": [
    {
     "data": {
      "text/plain": [
       "115892.913896537"
      ]
     },
     "execution_count": 362,
     "metadata": {},
     "output_type": "execute_result"
    },
    {
     "data": {
      "image/png": "[encoded data removed]",
      "text/plain": [
       "<Figure size 432x288 with 1 Axes>"
      ]
     },
     "metadata": {
      "needs_background": "light"
     },
     "output_type": "display_data"
    }
   ],
   "source": [
    "#plt.plot(np.convolve(np.ones(100),np.asarray([t[0] for t in log]))[100:-100])\n",
    "plt.plot([t[0] for t in log])\n",
    "\n",
    "item=blog[-1]\n",
    "item[1]/item[0]\n",
    "#print(model)"
   ]
  },
  {
   "cell_type": "code",
   "execution_count": 363,
   "metadata": {},
   "outputs": [
    {
     "name": "stdout",
     "output_type": "stream",
     "text": [
      "torch.Size([1000])\n"
     ]
    },
    {
     "data": {
      "text/plain": [
       "<matplotlib.collections.PathCollection at 0x1a3ff635a60>"
      ]
     },
     "execution_count": 363,
     "metadata": {},
     "output_type": "execute_result"
    },
    {
     "data": {
      "image/png": "[encoded data removed]",
      "text/plain": [
       "<Figure size 432x288 with 1 Axes>"
      ]
     },
     "metadata": {
      "needs_background": "light"
     },
     "output_type": "display_data"
    }
   ],
   "source": [
    "ds=Reg_DS(norm=True)\n",
    "plt.plot(ds.t.cpu(),model(ds.t[:,None]).cpu().detach())\n",
    "plt.scatter(ds.t.cpu(),ds.y.cpu(),marker='x',color='k')\n"
   ]
  },
  {
   "cell_type": "code",
   "execution_count": 312,
   "metadata": {},
   "outputs": [
    {
     "name": "stdout",
     "output_type": "stream",
     "text": [
      "Sequential(\n",
      "  (0): Linear(in_features=1, out_features=100, bias=True)\n",
      "  (1): ReLU()\n",
      "  (2): Linear(in_features=100, out_features=100, bias=True)\n",
      "  (3): ReLU()\n",
      "  (4): Linear(in_features=100, out_features=1, bias=True)\n",
      ")\n"
     ]
    }
   ],
   "source": [
    "print(model)"
   ]
  },
  {
   "cell_type": "code",
   "execution_count": 364,
   "metadata": {},
   "outputs": [
    {
     "name": "stdout",
     "output_type": "stream",
     "text": [
      "torch.Size([1000])\n"
     ]
    },
    {
     "data": {
      "image/png": "[encoded data removed]",
      "text/plain": [
       "<Figure size 432x288 with 1 Axes>"
      ]
     },
     "metadata": {
      "needs_background": "light"
     },
     "output_type": "display_data"
    }
   ],
   "source": [
    "N=1000\n",
    "NS=10\n",
    "samples=torch.zeros(NS,N)\n",
    "ds=Reg_DS(norm=True)\n",
    "t=torch.linspace(-0.2,0.7,N)\n",
    "\n",
    "ymean,ystd=ds.y.mean(),ds.y.std()\n",
    "for i in range(NS):\n",
    "    samples[i]=model(((t-ds.tmean)/ds.tstd)\n",
    "                      [:,None]).reshape(-1)\n",
    "#samples=samples*ystd+ymean\n",
    "sort=torch.sort(samples,axis=0)[0].cpu().detach()\n",
    "mu,std=samples.mean(axis=0).cpu().detach(),    samples.std(axis=0).cpu().detach()\n",
    "ax=plt.subplot()\n",
    "ax.plot(t.cpu(),mu,c='b')\n",
    "plt.scatter((ds.t*ds.tstd+ds.tmean).cpu().detach(),ds.y.cpu(),marker='x')\n",
    "\n",
    "ax.fill_between(t.cpu(),sort[0],sort[9],color='b',alpha=0.4)\n",
    "plt.show()\n",
    "\n",
    "#y=t+0.3*(torch.sin(2*np.pi*(t))+torch.sin(4*np.pi*(t)))\n",
    "\n",
    "#plt.plot(y.cpu())"
   ]
  },
  {
   "cell_type": "code",
   "execution_count": 22,
   "metadata": {},
   "outputs": [
    {
     "data": {
      "text/plain": [
       "torch.Size([10, 5000])"
      ]
     },
     "execution_count": 22,
     "metadata": {},
     "output_type": "execute_result"
    }
   ],
   "source": [
    "samples.shape"
   ]
  },
  {
   "cell_type": "code",
   "execution_count": 51,
   "metadata": {},
   "outputs": [],
   "source": [
    "y=df[0].values\n",
    "y=np.array([1 if t=='p' else 0 for t in y])\n",
    "\n",
    "x=pd.get_dummies(df.iloc[:,1:]).values\n",
    "\n"
   ]
  },
  {
   "cell_type": "code",
   "execution_count": 122,
   "metadata": {},
   "outputs": [
    {
     "name": "stderr",
     "output_type": "stream",
     "text": [
      "100%|████████████████████████████████████████████████████████████████████████████████| 127/127 [00:01<00:00, 96.94it/s]\n",
      "  7%|█████▊                                                                            | 9/127 [00:00<00:01, 85.87it/s]"
     ]
    },
    {
     "name": "stdout",
     "output_type": "stream",
     "text": [
      "----------\n",
      "epoch: 0\n",
      "loss: 2278.621943950653\n"
     ]
    },
    {
     "name": "stderr",
     "output_type": "stream",
     "text": [
      "100%|████████████████████████████████████████████████████████████████████████████████| 127/127 [00:01<00:00, 96.14it/s]"
     ]
    },
    {
     "name": "stdout",
     "output_type": "stream",
     "text": [
      "----------\n",
      "epoch: 1\n",
      "loss: 371.8695107102394\n"
     ]
    },
    {
     "name": "stderr",
     "output_type": "stream",
     "text": [
      "\n"
     ]
    }
   ],
   "source": [
    "class Mushroom_Dataset:\n",
    "    def __init__(self):\n",
    "        df=pd.read_csv('data/agaricus-lepiota.data',header=None)\n",
    "        y=df[0].values\n",
    "        y=np.array([-5 if t=='p' else 5 for t in y])\n",
    "        x=pd.get_dummies(df.iloc[:,1:]).values\n",
    "        self.x=torch.tensor(x,dtype=torch.float)\n",
    "        self.y=torch.tensor(y,dtype=torch.long)\n",
    "        \n",
    "    def __len__(self):\n",
    "        return len(self.x)\n",
    "    def __getitem__(self,i):\n",
    "        return self.x[i],self.y[i]\n",
    "    \n",
    "    \n",
    "\n",
    "    \n",
    "    \n",
    "dl=torch.utils.data.DataLoader(Mushroom_Dataset(),batch_size=64,shuffle=True)\n",
    "D=117\n",
    "H=300\n",
    "net=nn.Sequential(nn.Linear(117,H),\n",
    "                               nn.ReLU(),\n",
    "                               nn.Linear(H,H),\n",
    "                                nn.ReLU(),\n",
    "                               nn.Linear(H,1))#.to(device='cuda')\n",
    "opt = torch.optim.Adam(net.parameters(), lr=1e-4)\n",
    "log=[]\n",
    "for epoch in range(2):\n",
    "    total_loss = 0.0\n",
    "    num_correct = 0\n",
    "    for i, (X, y) in enumerate(tqdm(dl)):\n",
    "        #X,y=X.cuda(),y.cuda()\n",
    "        logits = net(X).reshape(-1)\n",
    "        #y_pred = torch.argmax(logits, dim=1)\n",
    "        loss = ((logits-y)**2).mean()\n",
    "        log.append(loss.item())\n",
    "        total_loss += loss.item() \n",
    "        #num_correct += torch.sum(y_pred == y).item() \n",
    "\n",
    "        loss.backward()\n",
    "        opt.step()\n",
    "        opt.zero_grad()\n",
    "    \n",
    "    #acc = num_correct / len(dl.dataset)\n",
    "\n",
    "    print('----------')\n",
    "    print(f'epoch: {epoch}')\n",
    "    print(f'loss: {total_loss}')\n",
    "    #print(f'acc : {acc}')\n",
    "        "
   ]
  },
  {
   "cell_type": "code",
   "execution_count": null,
   "metadata": {},
   "outputs": [
    {
     "name": "stderr",
     "output_type": "stream",
     "text": [
      " 32%|████████████████████████▋                                                     | 1584/5000 [11:20<26:15,  2.17it/s]"
     ]
    }
   ],
   "source": [
    "from random import choice\n",
    "\n",
    "class Mushroom_Bandit:\n",
    "    def __init__(self):\n",
    "        df=pd.read_csv('data/agaricus-lepiota.data',header=None)\n",
    "        y=df[0].values\n",
    "        y=np.array([1 if t=='p' else 0 for t in y])\n",
    "        x=pd.get_dummies(df.iloc[:,1:]).values\n",
    "        self.x=torch.tensor(x)\n",
    "        self.y=torch.tensor(y)\n",
    "        self.cum_reg=[0]\n",
    "    \n",
    "    def get_ctx(self):\n",
    "        #self.i=torch.randint(0,len(self.x),(1))\n",
    "        self.i=np.random.randint(0,len(self.x))\n",
    "        return self.x[self.i]\n",
    "    \n",
    "    def get_reward(self,a):\n",
    "        y=self.y[self.i]\n",
    "        mer=0 if y==1 else 5\n",
    "        \n",
    "        if a==0: ##don't eat\n",
    "            self.cum_reg.append(mer+self.cum_reg[-1])\n",
    "            return 0\n",
    "        \n",
    "        if y==0: ##eat and not poisonous\n",
    "            self.cum_reg.append(self.cum_reg[-1])\n",
    "            return 0\n",
    "        \n",
    "        ##eat and poisonous\n",
    "        self.cum_reg.append(self.cum_reg[-1]+15)\n",
    "        \n",
    "        p=torch.rand(1)\n",
    "        if p>=0.5:\n",
    "            return 5\n",
    "        \n",
    "        return -35\n",
    "    \n",
    "\n",
    "\n",
    "    \n",
    "BATCH_SIZE=64  \n",
    "class Agent:\n",
    "    def __init__(self,bandit):\n",
    "        self.buffer=[]\n",
    "        self.bandit=bandit\n",
    "    \n",
    "    \n",
    "    def update(self,c,a,r):\n",
    "        pass\n",
    "        \n",
    "    \n",
    "    def get_action(self,ctx):\n",
    "        pass\n",
    "    \n",
    "    def step(self):\n",
    "        ctx=self.bandit.get_ctx()\n",
    "        if len(self.buffer)<BATCH_SIZE:\n",
    "            action=choice([0,1])\n",
    "        else:\n",
    "            action=self.get_action(ctx.to(dtype=torch.float))\n",
    "        \n",
    "        rwd=self.bandit.get_reward(action)\n",
    "        \n",
    "        if len(self.buffer)>=4096:\n",
    "            self.buffer.pop(0)\n",
    "        \n",
    "        self.buffer.append((ctx,action,rwd))\n",
    "        \n",
    "        if len(self.buffer)>=BATCH_SIZE:\n",
    "            idxs=torch.randperm(len(self.buffer)).cpu().numpy()[:64]\n",
    "            actions=torch.tensor([self.buffer[i][1] for i in idxs],dtype=torch.long)\n",
    "            ctxs=torch.stack([self.buffer[i][0] for i in idxs]).to(dtype=torch.float)\n",
    "            rwds=torch.tensor([self.buffer[i][2] for i in idxs],dtype=torch.float)\n",
    "            \n",
    "            self.update(ctxs,actions,rwds)\n",
    "\n",
    "class Eps_Greedy(Agent):\n",
    "    def __init__(self,bandit,eps,cuda=True):\n",
    "        D=117\n",
    "        H=300\n",
    "        super(Eps_Greedy,self).__init__(bandit)\n",
    "        self.eps=eps\n",
    "        self.cuda=cuda\n",
    "        self.net=nn.Sequential(nn.Linear(D,H),\n",
    "                               nn.ReLU(),\n",
    "                               nn.Linear(H,H),\n",
    "                                nn.ReLU(),\n",
    "                               nn.Linear(H,2))\n",
    "        if cuda: self.net=self.net.to(device='cuda')\n",
    "        self.log=[]\n",
    "        self.optimizer=torch.optim.Adam(self.net.parameters(),lr=1e-2)\n",
    "    \n",
    "    def get_action(self,ctx):\n",
    "        p=torch.rand(1)\n",
    "        \n",
    "        if p<=self.eps:\n",
    "            return choice([0,1])\n",
    "        with torch.no_grad():\n",
    "            if self.cuda: ctx=ctx.cuda()\n",
    "            return self.net(ctx).argmax()\n",
    "            \n",
    "    \n",
    "    def update(self,c,a,r):\n",
    "        if self.cuda: c,a,r=c.cuda(),a.cuda(),r.cuda()\n",
    "        for it in range(BATCH_SIZE):\n",
    "            pred_r=self.net(c)[torch.arange(len(c)),a]\n",
    "            loss=((pred_r-r)**2).sum()\n",
    "            loss.backward()\n",
    "            self.log.append(int(loss.item()))\n",
    "            self.optimizer.step()\n",
    "            self.optimizer.zero_grad()\n",
    "class Bayesian_Agent(Agent):\n",
    "    def __init__(self,bandit,cuda=True,num_samples=2,beta=1e-3,lr=1e-2,num_epochs=10):\n",
    "        D=117\n",
    "        H=300\n",
    "        self.num_epochs=10\n",
    "        super(Bayesian_Agent,self).__init__(bandit)\n",
    "        self.cuda=cuda\n",
    "        self.num_samples=num_samples\n",
    "        self.beta=beta\n",
    "        self.net=nn.Sequential(BayesLinear(D,H),\n",
    "                               nn.ReLU(),\n",
    "                               BayesLinear(H,H),\n",
    "                                nn.ReLU(),\n",
    "                               BayesLinear(H,2))\n",
    "        if cuda: self.net=self.net.to(device='cuda')\n",
    "        self.optimizer=torch.optim.Adam(self.net.parameters(),lr=lr)\n",
    "        self.log=[]\n",
    "    \n",
    "    def get_action(self,ctx):\n",
    "        if self.cuda: ctx=ctx.cuda()\n",
    "        mean_logits=0.0\n",
    "        with torch.no_grad():\n",
    "            for _ in range(2):\n",
    "                mean_logits+=self.net(ctx)\n",
    "\n",
    "        return mean_logits.argmax()\n",
    "            \n",
    "    \n",
    "    def update(self,c,a,r):\n",
    "        if self.cuda: c,a,r=c.cuda(),a.cuda(),r.cuda()\n",
    "\n",
    "        for _ in range(self.num_epochs):\n",
    "            reg_loss=0.0\n",
    "            kl_loss=0.0\n",
    "            for _ in range(self.num_samples):\n",
    "                pred_r=self.net(c)[torch.arange(len(a)),a.reshape(-1)]\n",
    "                kl_loss=get_kl_loss(self.net, 1)\n",
    "                reg_loss+=((pred_r.reshape(-1)-r)**2).sum()\n",
    "            kl_loss,reg_loss= kl_loss/self.num_samples,reg_loss/self.num_samples\n",
    "            loss=self.beta*kl_loss+reg_loss\n",
    "            loss.backward()\n",
    "            self.log.append((kl_loss.item(),reg_loss.item()))\n",
    "            self.optimizer.step()\n",
    "            self.optimizer.zero_grad()\n",
    "import pandas as pd           \n",
    "\n",
    "            \n",
    "bandit=Mushroom_Bandit()\n",
    "#agent=Eps_Greedy(bandit,0.01)\n",
    "agent=Bayesian_Agent(bandit,beta=5e3)\n",
    "from tqdm import tqdm\n",
    "for _ in tqdm(range(5000)):\n",
    "    agent.step()\n",
    "\n",
    "\n",
    "            \n",
    "    \n",
    "    \n",
    "        \n",
    "        \n",
    "    "
   ]
  },
  {
   "cell_type": "code",
   "execution_count": 14,
   "metadata": {},
   "outputs": [
    {
     "name": "stdout",
     "output_type": "stream",
     "text": [
      "0.00015271823935729745\n"
     ]
    },
    {
     "data": {
      "text/plain": [
       "[<matplotlib.lines.Line2D at 0x20bd42aebe0>]"
      ]
     },
     "execution_count": 14,
     "metadata": {},
     "output_type": "execute_result"
    },
    {
     "data": {
      "image/png": "[encoded data removed]",
      "text/plain": [
       "<Figure size 432x288 with 1 Axes>"
      ]
     },
     "metadata": {
      "needs_background": "light"
     },
     "output_type": "display_data"
    }
   ],
   "source": [
    "item=agent.log[-1]\n",
    "print(item[1]/item[0])\n",
    "#plt.plot([t[1] for t in agent.log])\n",
    "plt.plot([t for t in bandit.cum_reg])"
   ]
  },
  {
   "cell_type": "code",
   "execution_count": 66,
   "metadata": {},
   "outputs": [
    {
     "ename": "NameError",
     "evalue": "name 'agent' is not defined",
     "output_type": "error",
     "traceback": [
      "\u001b[1;31m---------------------------------------------------------------------------\u001b[0m",
      "\u001b[1;31mNameError\u001b[0m                                 Traceback (most recent call last)",
      "\u001b[1;32m<ipython-input-66-85bbf31a859a>\u001b[0m in \u001b[0;36m<module>\u001b[1;34m\u001b[0m\n\u001b[0;32m      1\u001b[0m \u001b[1;31m#plt.plot(bandit.cum_reg)\u001b[0m\u001b[1;33m\u001b[0m\u001b[1;33m\u001b[0m\u001b[1;33m\u001b[0m\u001b[0m\n\u001b[0;32m      2\u001b[0m \u001b[1;31m#plt.plot(5*np.arange(1000))\u001b[0m\u001b[1;33m\u001b[0m\u001b[1;33m\u001b[0m\u001b[1;33m\u001b[0m\u001b[0m\n\u001b[1;32m----> 3\u001b[1;33m \u001b[0mplt\u001b[0m\u001b[1;33m.\u001b[0m\u001b[0mplot\u001b[0m\u001b[1;33m(\u001b[0m\u001b[0mnp\u001b[0m\u001b[1;33m.\u001b[0m\u001b[0mconvolve\u001b[0m\u001b[1;33m(\u001b[0m\u001b[0mnp\u001b[0m\u001b[1;33m.\u001b[0m\u001b[0mones\u001b[0m\u001b[1;33m(\u001b[0m\u001b[1;36m1000\u001b[0m\u001b[1;33m)\u001b[0m\u001b[1;33m,\u001b[0m\u001b[0mnp\u001b[0m\u001b[1;33m.\u001b[0m\u001b[0masarray\u001b[0m\u001b[1;33m(\u001b[0m\u001b[0magent\u001b[0m\u001b[1;33m.\u001b[0m\u001b[0mlog\u001b[0m\u001b[1;33m)\u001b[0m\u001b[1;33m)\u001b[0m\u001b[1;33m)\u001b[0m\u001b[1;33m\u001b[0m\u001b[1;33m\u001b[0m\u001b[0m\n\u001b[0m",
      "\u001b[1;31mNameError\u001b[0m: name 'agent' is not defined"
     ]
    }
   ],
   "source": [
    "#plt.plot(bandit.cum_reg)\n",
    "#plt.plot(5*np.arange(1000))\n",
    "plt.plot(np.convolve(np.ones(1000),np.asarray(agent.log)))"
   ]
  },
  {
   "cell_type": "code",
   "execution_count": 74,
   "metadata": {},
   "outputs": [],
   "source": []
  },
  {
   "cell_type": "code",
   "execution_count": 98,
   "metadata": {},
   "outputs": [
    {
     "data": {
      "text/plain": [
       "[<matplotlib.lines.Line2D at 0x14184b41b20>]"
      ]
     },
     "execution_count": 98,
     "metadata": {},
     "output_type": "execute_result"
    },
    {
     "data": {
      "image/png": "[encoded data removed]",
      "text/plain": [
       "<Figure size 432x288 with 1 Axes>"
      ]
     },
     "metadata": {
      "needs_background": "light"
     },
     "output_type": "display_data"
    }
   ],
   "source": []
  }
 ],
 "metadata": {
  "kernelspec": {
   "display_name": "Python 3",
   "language": "python",
   "name": "python3"
  },
  "language_info": {
   "codemirror_mode": {
    "name": "ipython",
    "version": 3
   },
   "file_extension": ".py",
   "mimetype": "text/x-python",
   "name": "python",
   "nbconvert_exporter": "python",
   "pygments_lexer": "ipython3",
   "version": "3.8.3"
  }
 },
 "nbformat": 4,
 "nbformat_minor": 4
}
