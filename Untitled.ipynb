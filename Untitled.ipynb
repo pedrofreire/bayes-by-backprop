{
 "cells": [
  {
   "cell_type": "code",
   "execution_count": 2,
   "metadata": {},
   "outputs": [],
   "source": [
    "# from importlib import reload\n",
    "import torch\n",
    "from bayes_by_backprop import BayesLinear,get_kl_loss\n",
    "import matplotlib.pyplot as plt\n",
    "import numpy as np\n",
    "import  torch.nn as nn\n"
   ]
  },
  {
   "cell_type": "code",
   "execution_count": 2,
   "metadata": {},
   "outputs": [],
   "source": [
    "\n",
    "\n",
    "class Reg_DS:\n",
    "    def __init__(self):\n",
    "        sig=0.02\n",
    "        t=torch.linspace(0,0.5,1000)\n",
    "        eps=torch.randn(1000)*sig\n",
    "        self.y=t+0.3*(torch.sin(2*np.pi*(t+eps))+torch.sin(4*np.pi*(t+eps)))+eps\n",
    "        self.t=t\n",
    "    def __len__(self):\n",
    "        return len(self.y)\n",
    "    def __getitem__(self,i):\n",
    "        return self.t[i],self.y[i]"
   ]
  },
  {
   "cell_type": "code",
   "execution_count": 80,
   "metadata": {},
   "outputs": [
    {
     "name": "stdout",
     "output_type": "stream",
     "text": [
      "epoch: 0\n",
      "loss: 3.810384191894531\n",
      "epoch: 5\n",
      "loss: 1.2001183654785155\n",
      "epoch: 10\n",
      "loss: 1.1397013244628906\n",
      "epoch: 15\n",
      "loss: 1.1451216064453127\n",
      "epoch: 20\n",
      "loss: 1.1077826843261718\n",
      "epoch: 25\n",
      "loss: 1.0287008666992188\n",
      "epoch: 30\n",
      "loss: 1.0110740844726562\n",
      "epoch: 35\n",
      "loss: 0.9573008422851563\n",
      "epoch: 40\n",
      "loss: 0.9244686401367188\n",
      "epoch: 45\n",
      "loss: 0.8687935363769532\n",
      "epoch: 50\n",
      "loss: 0.8248922607421877\n",
      "epoch: 55\n",
      "loss: 0.8203298706054687\n",
      "epoch: 60\n",
      "loss: 0.8062408569335937\n",
      "epoch: 65\n",
      "loss: 0.7446923156738281\n",
      "epoch: 70\n",
      "loss: 0.701554443359375\n",
      "epoch: 75\n",
      "loss: 0.6933378295898438\n",
      "epoch: 80\n",
      "loss: 0.7076291259765625\n",
      "epoch: 85\n",
      "loss: 0.6966049011230467\n",
      "epoch: 90\n",
      "loss: 0.6822381103515626\n",
      "epoch: 95\n",
      "loss: 0.6950050354003906\n",
      "epoch: 100\n",
      "loss: 0.6778513366699218\n",
      "epoch: 105\n",
      "loss: 0.6119058624267578\n",
      "epoch: 110\n",
      "loss: 0.6453605895996094\n",
      "epoch: 115\n",
      "loss: 0.6915209564208984\n",
      "epoch: 120\n",
      "loss: 0.625357666015625\n",
      "epoch: 125\n",
      "loss: 0.6308837677001954\n",
      "epoch: 130\n",
      "loss: 0.6281643615722655\n",
      "epoch: 135\n",
      "loss: 0.6265418518066406\n",
      "epoch: 140\n",
      "loss: 0.5871612213134765\n",
      "epoch: 145\n",
      "loss: 0.5823446655273438\n",
      "epoch: 150\n",
      "loss: 0.6133744750976562\n",
      "epoch: 155\n",
      "loss: 0.5815854034423827\n",
      "epoch: 160\n",
      "loss: 0.5866659851074219\n",
      "epoch: 165\n",
      "loss: 0.5924053314208984\n",
      "epoch: 170\n",
      "loss: 0.587768798828125\n",
      "epoch: 175\n",
      "loss: 0.5681065673828125\n",
      "epoch: 180\n",
      "loss: 0.5676242614746094\n",
      "epoch: 185\n",
      "loss: 0.5490016784667969\n",
      "epoch: 190\n",
      "loss: 0.5718180847167968\n",
      "epoch: 195\n",
      "loss: 0.5532830902099609\n"
     ]
    }
   ],
   "source": [
    "def train(\n",
    "    epochs=30,\n",
    "    num_samples=5,\n",
    "    batch_size=128,\n",
    "    lr=1e-3,bayesian=True,BETA=1e-1,\n",
    "    hid_sz=100,num_layers=3\n",
    "):\n",
    "    train_loader=torch.utils.data.DataLoader(Reg_DS(),batch_size)\n",
    "    num_batches=len(train_loader)\n",
    "    inp_sz = 1\n",
    "    out_sz = 1\n",
    "    linear = BayesLinear if bayesian else nn.Linear\n",
    "    model = nn.Sequential(*([\n",
    "        linear(inp_sz, hid_sz),\n",
    "        nn.ReLU()]+\n",
    "        (num_layers-2)*[linear(hid_sz, hid_sz),\n",
    "        nn.ReLU()]+\n",
    "        [linear(hid_sz, out_sz)])\n",
    "    )\n",
    "\n",
    "\n",
    "\n",
    "    \n",
    "    opt = torch.optim.Adam(model.parameters(), lr=lr)\n",
    "    log=[]\n",
    "    for epoch in range(epochs):\n",
    "        total_loss = 0.0\n",
    "        num_correct = 0\n",
    "        for i, (X, y) in enumerate(train_loader):\n",
    "            loss = 0.0\n",
    "            X,y=X[:,None],y[:,None]\n",
    "            kl_losses=torch.zeros(num_samples)\n",
    "            reg_losses=torch.zeros(num_samples)\n",
    "            for ns in range(num_samples):\n",
    "                reg_losses[ns]=((model(X).reshape(-1)-y)**2).sum()\n",
    "                \n",
    "                if bayesian:\n",
    "                    kl_losses[ns] = get_kl_loss(model, num_batches)\n",
    "\n",
    "            kl_loss = kl_losses.mean()\n",
    "            reg_loss=reg_losses.mean()\n",
    "            if bayesian:\n",
    "                loss = BETA * kl_loss + reg_loss\n",
    "\n",
    "            else:\n",
    "                loss=reg_loss\n",
    "              \n",
    "            loss.backward()\n",
    "            log.append((reg_loss.item(),kl_loss.item(),loss.item()))\n",
    "            total_loss += loss.item() / num_samples\n",
    "\n",
    "\n",
    "            opt.step()\n",
    "            opt.zero_grad()\n",
    "\n",
    "\n",
    "        if epoch%5==0:\n",
    "            #print('----------')\n",
    "            print(f'epoch: {epoch}')\n",
    "            print(f'loss: {total_loss/1000}')\n",
    "    return model,log\n",
    "\n",
    "model,log=train(200,lr=1e-3,bayesian=True,num_samples=5,BETA=5e-2)"
   ]
  },
  {
   "cell_type": "code",
   "execution_count": 61,
   "metadata": {},
   "outputs": [
    {
     "data": {
      "text/plain": [
       "21.04704114474397"
      ]
     },
     "execution_count": 61,
     "metadata": {},
     "output_type": "execute_result"
    },
    {
     "data": {
      "image/png": "[encoded data removed]",
      "text/plain": [
       "<Figure size 432x288 with 1 Axes>"
      ]
     },
     "metadata": {
      "needs_background": "light"
     },
     "output_type": "display_data"
    }
   ],
   "source": [
    "#plt.plot(np.convolve(np.ones(100),np.asarray([t[0] for t in log]))[100:-100])\n",
    "plt.plot([t[1] for t in log])\n",
    "\n",
    "item=log[-1]\n",
    "item[1]/item[0]\n",
    "#print(model)"
   ]
  },
  {
   "cell_type": "code",
   "execution_count": 63,
   "metadata": {},
   "outputs": [
    {
     "data": {
      "image/png": "[encoded data removed]",
      "text/plain": [
       "<Figure size 432x288 with 1 Axes>"
      ]
     },
     "metadata": {
      "needs_background": "light"
     },
     "output_type": "display_data"
    }
   ],
   "source": [
    "N=5000\n",
    "NS=10\n",
    "samples=torch.zeros(NS,N)\n",
    "t=torch.linspace(-0.2,1.2,N)\n",
    "for i in range(NS):\n",
    "    samples[i]=model(t[:,None]).reshape(-1)\n",
    "sort=torch.sort(samples,axis=0)[0].cpu().detach()\n",
    "mu,std=samples.mean(axis=0).cpu().detach(),    samples.std(axis=0).cpu().detach()\n",
    "ax=plt.subplot()\n",
    "ax.plot(t.cpu(),mu,c='b')\n",
    "plt.scatter(ds.t.cpu(),ds.y.cpu(),marker='x',color='k')\n",
    "\n",
    "ax.fill_between(t.cpu(),sort[0],sort[9],color='b',alpha=0.4)\n",
    "ds=Reg_DS()\n",
    "plt.show()\n",
    "\n",
    "#y=t+0.3*(torch.sin(2*np.pi*(t))+torch.sin(4*np.pi*(t)))\n",
    "\n",
    "#plt.plot(y.cpu())"
   ]
  },
  {
   "cell_type": "code",
   "execution_count": 22,
   "metadata": {},
   "outputs": [
    {
     "data": {
      "text/plain": [
       "torch.Size([10, 5000])"
      ]
     },
     "execution_count": 22,
     "metadata": {},
     "output_type": "execute_result"
    }
   ],
   "source": [
    "samples.shape"
   ]
  },
  {
   "cell_type": "code",
   "execution_count": 51,
   "metadata": {},
   "outputs": [],
   "source": [
    "y=df[0].values\n",
    "y=np.array([1 if t=='p' else 0 for t in y])\n",
    "\n",
    "x=pd.get_dummies(df.iloc[:,1:]).values\n",
    "\n"
   ]
  },
  {
   "cell_type": "code",
   "execution_count": 122,
   "metadata": {},
   "outputs": [
    {
     "name": "stderr",
     "output_type": "stream",
     "text": [
      "100%|████████████████████████████████████████████████████████████████████████████████| 127/127 [00:01<00:00, 96.94it/s]\n",
      "  7%|█████▊                                                                            | 9/127 [00:00<00:01, 85.87it/s]"
     ]
    },
    {
     "name": "stdout",
     "output_type": "stream",
     "text": [
      "----------\n",
      "epoch: 0\n",
      "loss: 2278.621943950653\n"
     ]
    },
    {
     "name": "stderr",
     "output_type": "stream",
     "text": [
      "100%|████████████████████████████████████████████████████████████████████████████████| 127/127 [00:01<00:00, 96.14it/s]"
     ]
    },
    {
     "name": "stdout",
     "output_type": "stream",
     "text": [
      "----------\n",
      "epoch: 1\n",
      "loss: 371.8695107102394\n"
     ]
    },
    {
     "name": "stderr",
     "output_type": "stream",
     "text": [
      "\n"
     ]
    }
   ],
   "source": [
    "class Mushroom_Dataset:\n",
    "    def __init__(self):\n",
    "        df=pd.read_csv('data/agaricus-lepiota.data',header=None)\n",
    "        y=df[0].values\n",
    "        y=np.array([-5 if t=='p' else 5 for t in y])\n",
    "        x=pd.get_dummies(df.iloc[:,1:]).values\n",
    "        self.x=torch.tensor(x,dtype=torch.float)\n",
    "        self.y=torch.tensor(y,dtype=torch.long)\n",
    "        \n",
    "    def __len__(self):\n",
    "        return len(self.x)\n",
    "    def __getitem__(self,i):\n",
    "        return self.x[i],self.y[i]\n",
    "    \n",
    "    \n",
    "\n",
    "    \n",
    "    \n",
    "dl=torch.utils.data.DataLoader(Mushroom_Dataset(),batch_size=64,shuffle=True)\n",
    "D=117\n",
    "H=300\n",
    "net=nn.Sequential(nn.Linear(117,H),\n",
    "                               nn.ReLU(),\n",
    "                               nn.Linear(H,H),\n",
    "                                nn.ReLU(),\n",
    "                               nn.Linear(H,1))#.to(device='cuda')\n",
    "opt = torch.optim.Adam(net.parameters(), lr=1e-4)\n",
    "log=[]\n",
    "for epoch in range(2):\n",
    "    total_loss = 0.0\n",
    "    num_correct = 0\n",
    "    for i, (X, y) in enumerate(tqdm(dl)):\n",
    "        #X,y=X.cuda(),y.cuda()\n",
    "        logits = net(X).reshape(-1)\n",
    "        #y_pred = torch.argmax(logits, dim=1)\n",
    "        loss = ((logits-y)**2).mean()\n",
    "        log.append(loss.item())\n",
    "        total_loss += loss.item() \n",
    "        #num_correct += torch.sum(y_pred == y).item() \n",
    "\n",
    "        loss.backward()\n",
    "        opt.step()\n",
    "        opt.zero_grad()\n",
    "    \n",
    "    #acc = num_correct / len(dl.dataset)\n",
    "\n",
    "    print('----------')\n",
    "    print(f'epoch: {epoch}')\n",
    "    print(f'loss: {total_loss}')\n",
    "    #print(f'acc : {acc}')\n",
    "        "
   ]
  },
  {
   "cell_type": "code",
   "execution_count": null,
   "metadata": {},
   "outputs": [
    {
     "name": "stderr",
     "output_type": "stream",
     "text": [
      " 69%|█████████████████████████████████████████████████████▍                        | 3428/5000 [25:27<12:36,  2.08it/s]"
     ]
    }
   ],
   "source": [
    "from random import choice\n",
    "\n",
    "class Mushroom_Bandit:\n",
    "    def __init__(self):\n",
    "        df=pd.read_csv('data/agaricus-lepiota.data',header=None)\n",
    "        y=df[0].values\n",
    "        y=np.array([1 if t=='p' else 0 for t in y])\n",
    "        x=pd.get_dummies(df.iloc[:,1:]).values\n",
    "        self.x=torch.tensor(x)\n",
    "        self.y=torch.tensor(y)\n",
    "        self.cum_reg=[0]\n",
    "    \n",
    "    def get_ctx(self):\n",
    "        #self.i=torch.randint(0,len(self.x),(1))\n",
    "        self.i=np.random.randint(0,len(self.x))\n",
    "        return self.x[self.i]\n",
    "    \n",
    "    def get_reward(self,a):\n",
    "        y=self.y[self.i]\n",
    "        mer=0 if y==1 else 5\n",
    "        \n",
    "        if a==0: ##don't eat\n",
    "            self.cum_reg.append(mer+self.cum_reg[-1])\n",
    "            return 0\n",
    "        \n",
    "        if y==0: ##eat and not poisonous\n",
    "            self.cum_reg.append(self.cum_reg[-1])\n",
    "            return 0\n",
    "        \n",
    "        ##eat and poisonous\n",
    "        self.cum_reg.append(self.cum_reg[-1]+15)\n",
    "        \n",
    "        p=torch.rand(1)\n",
    "        if p>=0.5:\n",
    "            return 5\n",
    "        \n",
    "        return -35\n",
    "    \n",
    "\n",
    "\n",
    "    \n",
    "BATCH_SIZE=64  \n",
    "class Agent:\n",
    "    def __init__(self,bandit):\n",
    "        self.buffer=[]\n",
    "        self.bandit=bandit\n",
    "    \n",
    "    \n",
    "    def update(self,c,a,r):\n",
    "        pass\n",
    "        \n",
    "    \n",
    "    def get_action(self,ctx):\n",
    "        pass\n",
    "    \n",
    "    def step(self):\n",
    "        ctx=self.bandit.get_ctx()\n",
    "        if len(self.buffer)<BATCH_SIZE:\n",
    "            action=choice([0,1])\n",
    "        else:\n",
    "            action=self.get_action(ctx.to(dtype=torch.float))\n",
    "        \n",
    "        rwd=self.bandit.get_reward(action)\n",
    "        \n",
    "        if len(self.buffer)>=4096:\n",
    "            self.buffer.pop(0)\n",
    "        \n",
    "        self.buffer.append((ctx,action,rwd))\n",
    "        \n",
    "        if len(self.buffer)>=BATCH_SIZE:\n",
    "            idxs=torch.randperm(len(self.buffer)).cpu().numpy()[:64]\n",
    "            actions=torch.tensor([self.buffer[i][1] for i in idxs],dtype=torch.long)\n",
    "            ctxs=torch.stack([self.buffer[i][0] for i in idxs]).to(dtype=torch.float)\n",
    "            rwds=torch.tensor([self.buffer[i][2] for i in idxs],dtype=torch.float)\n",
    "            \n",
    "            self.update(ctxs,actions,rwds)\n",
    "\n",
    "class Eps_Greedy(Agent):\n",
    "    def __init__(self,bandit,eps,cuda=True):\n",
    "        D=117\n",
    "        H=300\n",
    "        super(Eps_Greedy,self).__init__(bandit)\n",
    "        self.eps=eps\n",
    "        self.cuda=cuda\n",
    "        self.net=nn.Sequential(nn.Linear(D,H),\n",
    "                               nn.ReLU(),\n",
    "                               nn.Linear(H,H),\n",
    "                                nn.ReLU(),\n",
    "                               nn.Linear(H,2))\n",
    "        if cuda: self.net=self.net.to(device='cuda')\n",
    "        self.log=[]\n",
    "        self.optimizer=torch.optim.Adam(self.net.parameters(),lr=1e-2)\n",
    "    \n",
    "    def get_action(self,ctx):\n",
    "        p=torch.rand(1)\n",
    "        \n",
    "        if p<=self.eps:\n",
    "            return choice([0,1])\n",
    "        with torch.no_grad():\n",
    "            if self.cuda: ctx=ctx.cuda()\n",
    "            return self.net(ctx).argmax()\n",
    "            \n",
    "    \n",
    "    def update(self,c,a,r):\n",
    "        if self.cuda: c,a,r=c.cuda(),a.cuda(),r.cuda()\n",
    "        for it in range(BATCH_SIZE):\n",
    "            pred_r=self.net(c)[torch.arange(len(c)),a]\n",
    "            loss=((pred_r-r)**2).sum()\n",
    "            loss.backward()\n",
    "            self.log.append(int(loss.item()))\n",
    "            self.optimizer.step()\n",
    "            self.optimizer.zero_grad()\n",
    "class Bayesian_Agent(Agent):\n",
    "    def __init__(self,bandit,cuda=True,num_samples=2,beta=1e-3,lr=1e-2,num_epochs=10):\n",
    "        D=117\n",
    "        H=300\n",
    "        self.num_epochs=10\n",
    "        super(Bayesian_Agent,self).__init__(bandit)\n",
    "        self.cuda=cuda\n",
    "        self.num_samples=num_samples\n",
    "        self.beta=beta\n",
    "        self.net=nn.Sequential(BayesLinear(D,H),\n",
    "                               nn.ReLU(),\n",
    "                               BayesLinear(H,H),\n",
    "                                nn.ReLU(),\n",
    "                               BayesLinear(H,2))\n",
    "        if cuda: self.net=self.net.to(device='cuda')\n",
    "        self.optimizer=torch.optim.Adam(self.net.parameters(),lr=lr)\n",
    "        self.log=[]\n",
    "    \n",
    "    def get_action(self,ctx):\n",
    "        if self.cuda: ctx=ctx.cuda()\n",
    "        mean_logits=0.0\n",
    "        with torch.no_grad():\n",
    "            for _ in range(2):\n",
    "                mean_logits+=self.net(ctx)\n",
    "\n",
    "        return mean_logits.argmax()\n",
    "            \n",
    "    \n",
    "    def update(self,c,a,r):\n",
    "        if self.cuda: c,a,r=c.cuda(),a.cuda(),r.cuda()\n",
    "\n",
    "        for _ in range(self.num_epochs):\n",
    "            reg_loss=0.0\n",
    "            kl_loss=0.0\n",
    "            for _ in range(self.num_samples):\n",
    "                pred_r=self.net(c)[torch.arange(len(a)),a.reshape(-1)]\n",
    "                kl_loss=get_kl_loss(self.net, 1)\n",
    "                reg_loss+=((pred_r.reshape(-1)-r)**2).sum()\n",
    "            kl_loss,reg_loss= kl_loss/self.num_samples,reg_loss/self.num_samples\n",
    "            loss=self.beta*kl_loss+reg_loss\n",
    "            loss.backward()\n",
    "            self.log.append((kl_loss.item(),reg_loss.item()))\n",
    "            self.optimizer.step()\n",
    "            self.optimizer.zero_grad()\n",
    "import pandas as pd           \n",
    "\n",
    "            \n",
    "bandit=Mushroom_Bandit()\n",
    "#agent=Eps_Greedy(bandit,0.01)\n",
    "agent=Bayesian_Agent(bandit,beta=5e3)\n",
    "from tqdm import tqdm\n",
    "for _ in tqdm(range(5000)):\n",
    "    agent.step()\n",
    "\n",
    "\n",
    "            \n",
    "    \n",
    "    \n",
    "        \n",
    "        \n",
    "    "
   ]
  },
  {
   "cell_type": "code",
   "execution_count": 14,
   "metadata": {},
   "outputs": [
    {
     "name": "stdout",
     "output_type": "stream",
     "text": [
      "0.00015271823935729745\n"
     ]
    },
    {
     "data": {
      "text/plain": [
       "[<matplotlib.lines.Line2D at 0x20bd42aebe0>]"
      ]
     },
     "execution_count": 14,
     "metadata": {},
     "output_type": "execute_result"
    },
    {
     "data": {
      "image/png": "[encoded data removed]",
      "text/plain": [
       "<Figure size 432x288 with 1 Axes>"
      ]
     },
     "metadata": {
      "needs_background": "light"
     },
     "output_type": "display_data"
    }
   ],
   "source": [
    "item=agent.log[-1]\n",
    "print(item[1]/item[0])\n",
    "#plt.plot([t[1] for t in agent.log])\n",
    "plt.plot([t for t in bandit.cum_reg])"
   ]
  },
  {
   "cell_type": "code",
   "execution_count": 66,
   "metadata": {},
   "outputs": [
    {
     "ename": "NameError",
     "evalue": "name 'agent' is not defined",
     "output_type": "error",
     "traceback": [
      "\u001b[1;31m---------------------------------------------------------------------------\u001b[0m",
      "\u001b[1;31mNameError\u001b[0m                                 Traceback (most recent call last)",
      "\u001b[1;32m<ipython-input-66-85bbf31a859a>\u001b[0m in \u001b[0;36m<module>\u001b[1;34m\u001b[0m\n\u001b[0;32m      1\u001b[0m \u001b[1;31m#plt.plot(bandit.cum_reg)\u001b[0m\u001b[1;33m\u001b[0m\u001b[1;33m\u001b[0m\u001b[1;33m\u001b[0m\u001b[0m\n\u001b[0;32m      2\u001b[0m \u001b[1;31m#plt.plot(5*np.arange(1000))\u001b[0m\u001b[1;33m\u001b[0m\u001b[1;33m\u001b[0m\u001b[1;33m\u001b[0m\u001b[0m\n\u001b[1;32m----> 3\u001b[1;33m \u001b[0mplt\u001b[0m\u001b[1;33m.\u001b[0m\u001b[0mplot\u001b[0m\u001b[1;33m(\u001b[0m\u001b[0mnp\u001b[0m\u001b[1;33m.\u001b[0m\u001b[0mconvolve\u001b[0m\u001b[1;33m(\u001b[0m\u001b[0mnp\u001b[0m\u001b[1;33m.\u001b[0m\u001b[0mones\u001b[0m\u001b[1;33m(\u001b[0m\u001b[1;36m1000\u001b[0m\u001b[1;33m)\u001b[0m\u001b[1;33m,\u001b[0m\u001b[0mnp\u001b[0m\u001b[1;33m.\u001b[0m\u001b[0masarray\u001b[0m\u001b[1;33m(\u001b[0m\u001b[0magent\u001b[0m\u001b[1;33m.\u001b[0m\u001b[0mlog\u001b[0m\u001b[1;33m)\u001b[0m\u001b[1;33m)\u001b[0m\u001b[1;33m)\u001b[0m\u001b[1;33m\u001b[0m\u001b[1;33m\u001b[0m\u001b[0m\n\u001b[0m",
      "\u001b[1;31mNameError\u001b[0m: name 'agent' is not defined"
     ]
    }
   ],
   "source": [
    "#plt.plot(bandit.cum_reg)\n",
    "#plt.plot(5*np.arange(1000))\n",
    "plt.plot(np.convolve(np.ones(1000),np.asarray(agent.log)))"
   ]
  },
  {
   "cell_type": "code",
   "execution_count": 74,
   "metadata": {},
   "outputs": [],
   "source": []
  },
  {
   "cell_type": "code",
   "execution_count": 98,
   "metadata": {},
   "outputs": [
    {
     "data": {
      "text/plain": [
       "[<matplotlib.lines.Line2D at 0x14184b41b20>]"
      ]
     },
     "execution_count": 98,
     "metadata": {},
     "output_type": "execute_result"
    },
    {
     "data": {
      "image/png": "[encoded data removed]",
      "text/plain": [
       "<Figure size 432x288 with 1 Axes>"
      ]
     },
     "metadata": {
      "needs_background": "light"
     },
     "output_type": "display_data"
    }
   ],
   "source": []
  }
 ],
 "metadata": {
  "kernelspec": {
   "display_name": "Python 3",
   "language": "python",
   "name": "python3"
  },
  "language_info": {
   "codemirror_mode": {
    "name": "ipython",
    "version": 3
   },
   "file_extension": ".py",
   "mimetype": "text/x-python",
   "name": "python",
   "nbconvert_exporter": "python",
   "pygments_lexer": "ipython3",
   "version": "3.8.3"
  }
 },
 "nbformat": 4,
 "nbformat_minor": 4
}
